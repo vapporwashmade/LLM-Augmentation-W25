{
 "cells": [
  {
   "cell_type": "code",
   "execution_count": 1,
   "metadata": {},
   "outputs": [],
   "source": [
    "import os\n",
    "import langchain_community\n",
    "from langchain import PromptTemplate\n",
    "from langchain.chains import LLMChain\n",
    "from langchain_community.chat_models import ChatOpenAI\n",
    "from langchain.prompts import FewShotPromptTemplate\n",
    "from langchain.memory import ConversationBufferMemory\n",
    "from langchain_community.vectorstores import FAISS\n",
    "from langchain.docstore.document import Document\n",
    "from langchain.embeddings import OpenAIEmbeddings\n",
    "from sentence_transformers import SentenceTransformer\n",
    "from langchain.evaluation.qa import QAEvalChain\n",
    "from langchain.schema import OutputParserException\n",
    "import json\n",
    "import numpy as np\n",
    "import torch"
   ]
  },
  {
   "cell_type": "markdown",
   "metadata": {},
   "source": [
    "# Title: Advanced RAG & LangChain Fundamentals\n",
    "\n",
    "This notebook explores:\n",
    "1. **Few-Shot Prompting**\n",
    "2. **Re-Ranking with Cross-Encoders**\n",
    "3. **Conversational Retrieval with Memory**\n",
    "4. **RAG Evaluation**\n",
    "5. **Output Parsing**\n",
    "\n"
   ]
  },
  {
   "cell_type": "code",
   "execution_count": 2,
   "metadata": {},
   "outputs": [
    {
     "name": "stderr",
     "output_type": "stream",
     "text": [
      "/tmp/ipykernel_6910/1782841586.py:11: LangChainDeprecationWarning: The class `ChatOpenAI` was deprecated in LangChain 0.0.10 and will be removed in 1.0. An updated version of the class exists in the :class:`~langchain-openai package and should be used instead. To use it run `pip install -U :class:`~langchain-openai` and import as `from :class:`~langchain_openai import ChatOpenAI``.\n",
      "  llm = ChatOpenAI(temperature=0, openai_api_key=openai_api_key,model_name=\"gpt-4o\")  # Low temperature for deterministic output\n"
     ]
    }
   ],
   "source": [
    "def pretty_print(title, content):\n",
    "    \"\"\"Helper function to pretty-print results in a more readable format.\"\"\"\n",
    "    print(f\"=== {title} ===\")\n",
    "    print(content)\n",
    "    print(\"================\\n\")\n",
    "\n",
    "from dotenv import load_dotenv\n",
    "load_dotenv()\n",
    "\n",
    "openai_api_key = os.getenv(\"OPENAI_API_KEY\")\n",
    "llm = ChatOpenAI(temperature=0, openai_api_key=openai_api_key,model_name=\"gpt-4o\")  # Low temperature for deterministic output"
   ]
  },
  {
   "cell_type": "markdown",
   "metadata": {},
   "source": [
    "## Section 1: Few-Shot Prompting\n",
    "\n",
    "Few-Shot Prompting helps demonstrate a task to the LLM using a small set of examples.  \n",
    "Below, we create a function that:\n",
    "1. Builds a prompt from a list of Q&A examples.\n",
    "2. Asks **you** for a question, then appends it to the final prompt.\n",
    "3. Sends the prompt to the LLM (OpenAI by default), returning the model’s response.\n"
   ]
  },
  {
   "cell_type": "code",
   "execution_count": 3,
   "metadata": {},
   "outputs": [
    {
     "name": "stdin",
     "output_type": "stream",
     "text": [
      "Enter a question ('What is the capital of ___?'):  estonia\n"
     ]
    },
    {
     "name": "stdout",
     "output_type": "stream",
     "text": [
      "=== Few-Shot Prompt Response ===\n",
      "The capital of Estonia is Tallinn.\n",
      "================\n",
      "\n"
     ]
    }
   ],
   "source": [
    "def few_shot_prompt_example():\n",
    "    \"\"\"\n",
    "    This function demonstrates how to build a few-shot prompt.\n",
    "    We'll supply multiple examples to 'teach' the model how to respond\n",
    "    before asking a final question.\n",
    "    \"\"\"\n",
    "    # Example QA pairs\n",
    "    examples = [\n",
    "        {\n",
    "            \"input\": \"What is the capital of France?\",\n",
    "            \"output\": \"Paris.\"\n",
    "        },\n",
    "        {\n",
    "            \"input\": \"What is the capital of Spain?\",\n",
    "            \"output\": \"Madrid.\"\n",
    "        },\n",
    "        {\n",
    "            \"input\": \"Whats the capital of Italy?\",\n",
    "            \"output\": \"Rome.\"\n",
    "        },\n",
    "        {\n",
    "            \"input\": \"Whats denmarks capital city?\",\n",
    "            \"output\": \"Copenhagen.\"\n",
    "        }\n",
    "    ]\n",
    "    \n",
    "    # Build a string that contains the few-shot examples\n",
    "    example_prompt = \"\"\n",
    "    for ex in examples:\n",
    "        example_prompt += f\"Q: {ex['input']}\\nA: {ex['output']}\\n\\n\"\n",
    "\n",
    "    # Create a template with placeholders\n",
    "    template = (\n",
    "        \"Use the examples below to answer the question.\\n\\n\"\n",
    "        \"{examples}\\n\"\n",
    "        \"Q: {question}\\nA:\"\n",
    "    )\n",
    "\n",
    "    # Prompt the user to enter their own question\n",
    "    user_question = input(\"Enter a question ('What is the capital of ___?'): \")\n",
    "    \n",
    "    filled_prompt = template.format(examples=example_prompt, question=user_question)\n",
    "    \n",
    "    response = llm.invoke(filled_prompt)\n",
    "    \n",
    "    return response.content\n",
    "\n",
    "response_few_shot = few_shot_prompt_example()\n",
    "pretty_print(\"Few-Shot Prompt Response\", response_few_shot)\n"
   ]
  },
  {
   "cell_type": "markdown",
   "metadata": {},
   "source": [
    "\n",
    "## Section 2: Re-Ranking with a Cross-Encoder\n",
    "**Why Re-Rank?**  - Approximate nearest neighbor (ANN) searches may return decent but not always perfectly ranked results.\n",
    "\n",
    "**Cross-Encoder** re-evaluates (query, document) pairs to produce a more accurate relevance score.\n",
    "**Steps**:\n",
    "1. Create a small set of dummy documents.\n",
    "2. Store them in a FAISS vector store with embeddings.\n",
    "3. Retrieve the top-k documents.\n",
    "4. Re-rank those documents using a cross-encoder model.\n",
    "5. Return the highest-scoring document."
   ]
  },
  {
   "cell_type": "code",
   "execution_count": 5,
   "metadata": {},
   "outputs": [
    {
     "name": "stdin",
     "output_type": "stream",
     "text": [
      "\n",
      "Enter a query (e.g., Ask about opera houses or fine arts):  I don't like opera\n"
     ]
    },
    {
     "name": "stdout",
     "output_type": "stream",
     "text": [
      "\n",
      "=== Re-Ranked Results ===\n",
      "1. Score: -9.7717 | Content: Sydney, Australia, is known for its Opera House, Harbour Bridge, and beautiful beaches.\n",
      "2. Score: -11.2060 | Content: The Champs-Élysées in Paris is a famous avenue lined with luxury shops, theaters, and cafés.\n",
      "3. Score: -11.2087 | Content: The Colosseum, an ancient Roman amphitheater, is located in Rome, Italy.\n",
      "4. Score: -11.2336 | Content: Barcelona, Spain, is renowned for its stunning architecture, including the Sagrada Familia and Park Güell.\n",
      "5. Score: -11.2984 | Content: The Louvre Museum in Paris houses thousands of artworks, including the Mona Lisa.\n",
      "=========================\n",
      "\n",
      "=== Best Retrieved Document ===\n",
      "Sydney, Australia, is known for its Opera House, Harbour Bridge, and beautiful beaches.\n",
      "==============================\n"
     ]
    }
   ],
   "source": [
    "from sentence_transformers import CrossEncoder\n",
    "\n",
    "def advanced_rag_rerank_example():\n",
    "    \"\"\"\n",
    "    1. Create a diverse set of dummy documents\n",
    "    2. Store them in a FAISS vector store using OpenAI embeddings\n",
    "    3. Retrieve the top 5 most relevant results\n",
    "    4. Re-rank them using a cross-encoder model\n",
    "    5. Return the best-ranked document with scores\n",
    "    \"\"\"\n",
    "    \n",
    "    # Step 1: Create a diverse set of dummy documents\n",
    "    texts = [\n",
    "        \"Paris is the capital of France, known for its iconic Eiffel Tower, rich art, and the Louvre Museum.\",\n",
    "        \"Berlin, the capital of Germany, is famous for its history, culture, and landmarks such as the Brandenburg Gate.\",\n",
    "        \"Madrid, the capital of Spain, is a vibrant city known for its Royal Palace and Plaza Mayor.\",\n",
    "        \"The Eiffel Tower, located in Paris, is one of the most visited monuments in the world.\",\n",
    "        \"New York City is known for the Statue of Liberty, Times Square, and as a global financial hub.\",\n",
    "        \"Tokyo is the capital of Japan, a metropolis blending modern skyscrapers with historic temples.\",\n",
    "        \"The Colosseum, an ancient Roman amphitheater, is located in Rome, Italy.\",\n",
    "        \"London, the capital of the United Kingdom, is home to Big Ben, Buckingham Palace, and the River Thames.\",\n",
    "        \"The Seine River runs through Paris, offering scenic views of the city's famous landmarks.\",\n",
    "        \"Barcelona, Spain, is renowned for its stunning architecture, including the Sagrada Familia and Park Güell.\",\n",
    "        \"The Louvre Museum in Paris houses thousands of artworks, including the Mona Lisa.\",\n",
    "        \"The Champs-Élysées in Paris is a famous avenue lined with luxury shops, theaters, and cafés.\",\n",
    "        \"The Golden Gate Bridge in San Francisco is an iconic suspension bridge known for its striking red color.\",\n",
    "        \"The Pyramids of Giza in Egypt are among the world's most famous ancient wonders.\",\n",
    "        \"Sydney, Australia, is known for its Opera House, Harbour Bridge, and beautiful beaches.\",\n",
    "        \"Mount Everest, the tallest mountain in the world, is located on the border between Nepal and Tibet.\"\n",
    "    ]\n",
    "    \n",
    "    docs = [Document(page_content=t) for t in texts]\n",
    "\n",
    "    # Step 2: Initialize FAISS vector store with OpenAI embeddings\n",
    "    embeddings = OpenAIEmbeddings(openai_api_key=openai_api_key)\n",
    "    vectorstore = FAISS.from_documents(docs, embeddings)\n",
    "\n",
    "    # Step 3: User inputs a query\n",
    "    user_query = input(\"\\nEnter a query (e.g., Ask about opera houses or fine arts): \")\n",
    "    retrieved_docs = vectorstore.similarity_search(user_query, k=5)\n",
    "\n",
    "    if not retrieved_docs:\n",
    "        print(\"\\nNo relevant documents found.\")\n",
    "        return None, []\n",
    "\n",
    "    # Step 4: Use CrossEncoder instead of SentenceTransformer\n",
    "    model = CrossEncoder('cross-encoder/ms-marco-MiniLM-L-6-v2')\n",
    "\n",
    "    # Prepare input pairs\n",
    "    inputs = [(user_query, d.page_content) for d in retrieved_docs]\n",
    "\n",
    "    # Get scores using `model.predict()`\n",
    "    scores = model.predict(inputs)  # Now correctly applies cross-encoder scoring\n",
    "\n",
    "    # Step 5: Sort and return results\n",
    "    ranked_docs = sorted(zip(retrieved_docs, scores), key=lambda x: x[1], reverse=True)\n",
    "    best_doc = ranked_docs[0][0]  # Best document based on ranking\n",
    "\n",
    "    # Step 6: Display results\n",
    "    print(\"\\n=== Re-Ranked Results ===\")\n",
    "    for rank, (doc, score) in enumerate(ranked_docs, 1):\n",
    "        print(f\"{rank}. Score: {score:.4f} | Content: {doc.page_content}\")\n",
    "    print(\"=========================\")\n",
    "\n",
    "    return best_doc, ranked_docs\n",
    "\n",
    "# Run the function\n",
    "best_doc, ranked_docs = advanced_rag_rerank_example()\n",
    "\n",
    "# Display the best result separately\n",
    "if best_doc:\n",
    "    print(\"\\n=== Best Retrieved Document ===\")\n",
    "    print(best_doc.page_content)\n",
    "    print(\"==============================\")"
   ]
  },
  {
   "cell_type": "markdown",
   "metadata": {},
   "source": [
    "## Section 3: Conversational Retrieval with Memory\n",
    "\n",
    "LangChain’s **Memory** component preserves conversation history.  \n",
    "Below, we use a **ConversationBufferMemory** that keeps all prior messages in a buffer.\n",
    "\n",
    "We'll simulate:\n",
    "1. A user greeting.\n",
    "2. AI greeting response.\n",
    "3. Another user question.\n",
    "4. AI response.\n",
    "\n",
    "In a real pipeline, this memory would be fed into a retrieval step so the system can reference the conversation context.\n",
    "\n"
   ]
  },
  {
   "cell_type": "code",
   "execution_count": 6,
   "metadata": {},
   "outputs": [
    {
     "name": "stderr",
     "output_type": "stream",
     "text": [
      "/tmp/ipykernel_6910/4209339602.py:3: LangChainDeprecationWarning: Please see the migration guide at: https://python.langchain.com/docs/versions/migrating_memory/\n",
      "  memory = ConversationBufferMemory(memory_key=\"history\", return_messages=True)\n",
      "/tmp/ipykernel_6910/4209339602.py:6: LangChainDeprecationWarning: The class `ConversationChain` was deprecated in LangChain 0.2.7 and will be removed in 1.0. Use :meth:`~RunnableWithMessageHistory: https://python.langchain.com/v0.2/api_reference/core/runnables/langchain_core.runnables.history.RunnableWithMessageHistory.html` instead.\n",
      "  conversation = ConversationChain(\n"
     ]
    },
    {
     "name": "stdout",
     "output_type": "stream",
     "text": [
      "\n",
      "AI: Hello! I can remember details from our conversation. Ask me about niche topics.\n"
     ]
    },
    {
     "name": "stdin",
     "output_type": "stream",
     "text": [
      "\n",
      "You:  What do I think of the opera?\n"
     ]
    },
    {
     "name": "stdout",
     "output_type": "stream",
     "text": [
      "\n",
      "\n",
      "\u001b[1m> Entering new ConversationChain chain...\u001b[0m\n",
      "Prompt after formatting:\n",
      "\u001b[32;1m\u001b[1;3mThe following is a friendly conversation between a human and an AI. The AI is talkative and provides lots of specific details from its context. If the AI does not know the answer to a question, it truthfully says it does not know.\n",
      "\n",
      "Current conversation:\n",
      "[]\n",
      "Human: What do I think of the opera?\n",
      "AI:\u001b[0m\n",
      "\n",
      "\u001b[1m> Finished chain.\u001b[0m\n",
      "\n",
      "AI: You might find the opera to be a captivating and immersive experience, filled with powerful music, dramatic storytelling, and impressive vocal performances. Many people appreciate the grandeur and emotional depth that opera offers, as well as the opportunity to see elaborate costumes and sets. If you enjoy classical music and theatrical productions, you might find the opera to be a fascinating blend of both. However, if you're new to opera, it can sometimes be challenging to follow the story, especially if it's in a language you don't speak, but many productions provide subtitles or synopses to help with understanding. Ultimately, your opinion might depend on your personal tastes and experiences with similar art forms.\n"
     ]
    },
    {
     "name": "stdin",
     "output_type": "stream",
     "text": [
      "\n",
      "You:  I don't like the opera, though.\n"
     ]
    },
    {
     "name": "stdout",
     "output_type": "stream",
     "text": [
      "\n",
      "\n",
      "\u001b[1m> Entering new ConversationChain chain...\u001b[0m\n",
      "Prompt after formatting:\n",
      "\u001b[32;1m\u001b[1;3mThe following is a friendly conversation between a human and an AI. The AI is talkative and provides lots of specific details from its context. If the AI does not know the answer to a question, it truthfully says it does not know.\n",
      "\n",
      "Current conversation:\n",
      "[HumanMessage(content='What do I think of the opera?', additional_kwargs={}, response_metadata={}), AIMessage(content=\"You might find the opera to be a captivating and immersive experience, filled with powerful music, dramatic storytelling, and impressive vocal performances. Many people appreciate the grandeur and emotional depth that opera offers, as well as the opportunity to see elaborate costumes and sets. If you enjoy classical music and theatrical productions, you might find the opera to be a fascinating blend of both. However, if you're new to opera, it can sometimes be challenging to follow the story, especially if it's in a language you don't speak, but many productions provide subtitles or synopses to help with understanding. Ultimately, your opinion might depend on your personal tastes and experiences with similar art forms.\", additional_kwargs={}, response_metadata={})]\n",
      "Human: I don't like the opera, though.\n",
      "AI:\u001b[0m\n",
      "\n",
      "\u001b[1m> Finished chain.\u001b[0m\n",
      "\n",
      "AI: That's completely understandable! Opera isn't for everyone, and personal taste plays a big role in what we enjoy. Some people find the style of singing or the length of performances to be challenging. Others might prefer different types of music or storytelling. If you're interested in exploring other forms of musical theater, you might enjoy musicals, which often have more contemporary music and dialogue. Or, if you like the idea of dramatic storytelling with music, you might enjoy film scores or symphonic concerts. It's all about finding what resonates with you!\n"
     ]
    },
    {
     "name": "stdin",
     "output_type": "stream",
     "text": [
      "\n",
      "You:  I hate everything.\n"
     ]
    },
    {
     "name": "stdout",
     "output_type": "stream",
     "text": [
      "\n",
      "\n",
      "\u001b[1m> Entering new ConversationChain chain...\u001b[0m\n",
      "Prompt after formatting:\n",
      "\u001b[32;1m\u001b[1;3mThe following is a friendly conversation between a human and an AI. The AI is talkative and provides lots of specific details from its context. If the AI does not know the answer to a question, it truthfully says it does not know.\n",
      "\n",
      "Current conversation:\n",
      "[HumanMessage(content='What do I think of the opera?', additional_kwargs={}, response_metadata={}), AIMessage(content=\"You might find the opera to be a captivating and immersive experience, filled with powerful music, dramatic storytelling, and impressive vocal performances. Many people appreciate the grandeur and emotional depth that opera offers, as well as the opportunity to see elaborate costumes and sets. If you enjoy classical music and theatrical productions, you might find the opera to be a fascinating blend of both. However, if you're new to opera, it can sometimes be challenging to follow the story, especially if it's in a language you don't speak, but many productions provide subtitles or synopses to help with understanding. Ultimately, your opinion might depend on your personal tastes and experiences with similar art forms.\", additional_kwargs={}, response_metadata={}), HumanMessage(content=\"I don't like the opera, though.\", additional_kwargs={}, response_metadata={}), AIMessage(content=\"That's completely understandable! Opera isn't for everyone, and personal taste plays a big role in what we enjoy. Some people find the style of singing or the length of performances to be challenging. Others might prefer different types of music or storytelling. If you're interested in exploring other forms of musical theater, you might enjoy musicals, which often have more contemporary music and dialogue. Or, if you like the idea of dramatic storytelling with music, you might enjoy film scores or symphonic concerts. It's all about finding what resonates with you!\", additional_kwargs={}, response_metadata={})]\n",
      "Human: I hate everything.\n",
      "AI:\u001b[0m\n",
      "\n",
      "\u001b[1m> Finished chain.\u001b[0m\n",
      "\n",
      "AI: I'm sorry to hear that you're feeling this way. It's okay to have moments when things feel overwhelming or frustrating. If you'd like to talk about what's bothering you, I'm here to listen and help in any way I can. Sometimes, sharing your thoughts or finding small things that bring you joy can make a difference. Let me know if there's anything specific you'd like to discuss or explore.\n"
     ]
    },
    {
     "name": "stdin",
     "output_type": "stream",
     "text": [
      "\n",
      "You:  What do I think about cats?\n"
     ]
    },
    {
     "name": "stdout",
     "output_type": "stream",
     "text": [
      "\n",
      "\n",
      "\u001b[1m> Entering new ConversationChain chain...\u001b[0m\n",
      "Prompt after formatting:\n",
      "\u001b[32;1m\u001b[1;3mThe following is a friendly conversation between a human and an AI. The AI is talkative and provides lots of specific details from its context. If the AI does not know the answer to a question, it truthfully says it does not know.\n",
      "\n",
      "Current conversation:\n",
      "[HumanMessage(content='What do I think of the opera?', additional_kwargs={}, response_metadata={}), AIMessage(content=\"You might find the opera to be a captivating and immersive experience, filled with powerful music, dramatic storytelling, and impressive vocal performances. Many people appreciate the grandeur and emotional depth that opera offers, as well as the opportunity to see elaborate costumes and sets. If you enjoy classical music and theatrical productions, you might find the opera to be a fascinating blend of both. However, if you're new to opera, it can sometimes be challenging to follow the story, especially if it's in a language you don't speak, but many productions provide subtitles or synopses to help with understanding. Ultimately, your opinion might depend on your personal tastes and experiences with similar art forms.\", additional_kwargs={}, response_metadata={}), HumanMessage(content=\"I don't like the opera, though.\", additional_kwargs={}, response_metadata={}), AIMessage(content=\"That's completely understandable! Opera isn't for everyone, and personal taste plays a big role in what we enjoy. Some people find the style of singing or the length of performances to be challenging. Others might prefer different types of music or storytelling. If you're interested in exploring other forms of musical theater, you might enjoy musicals, which often have more contemporary music and dialogue. Or, if you like the idea of dramatic storytelling with music, you might enjoy film scores or symphonic concerts. It's all about finding what resonates with you!\", additional_kwargs={}, response_metadata={}), HumanMessage(content='I hate everything.', additional_kwargs={}, response_metadata={}), AIMessage(content=\"I'm sorry to hear that you're feeling this way. It's okay to have moments when things feel overwhelming or frustrating. If you'd like to talk about what's bothering you, I'm here to listen and help in any way I can. Sometimes, sharing your thoughts or finding small things that bring you joy can make a difference. Let me know if there's anything specific you'd like to discuss or explore.\", additional_kwargs={}, response_metadata={})]\n",
      "Human: What do I think about cats?\n",
      "AI:\u001b[0m\n",
      "\n",
      "\u001b[1m> Finished chain.\u001b[0m\n",
      "\n",
      "AI: You might find cats to be intriguing and independent creatures. Many people appreciate their playful yet aloof nature, as well as their ability to form strong bonds with their human companions. Cats are known for their unique personalities, ranging from affectionate and cuddly to more reserved and solitary. If you enjoy having a pet that is relatively low-maintenance and enjoys both companionship and alone time, you might have a positive view of cats. However, if you prefer pets that are more interactive or require more attention, you might have mixed feelings about them. Ultimately, your opinion on cats could depend on your experiences with them and your personal preferences in pets.\n"
     ]
    },
    {
     "name": "stdin",
     "output_type": "stream",
     "text": [
      "\n",
      "You:  No, that's not true. I hate cats. Remember, I hate everything.\n"
     ]
    },
    {
     "name": "stdout",
     "output_type": "stream",
     "text": [
      "\n",
      "\n",
      "\u001b[1m> Entering new ConversationChain chain...\u001b[0m\n",
      "Prompt after formatting:\n",
      "\u001b[32;1m\u001b[1;3mThe following is a friendly conversation between a human and an AI. The AI is talkative and provides lots of specific details from its context. If the AI does not know the answer to a question, it truthfully says it does not know.\n",
      "\n",
      "Current conversation:\n",
      "[HumanMessage(content='What do I think of the opera?', additional_kwargs={}, response_metadata={}), AIMessage(content=\"You might find the opera to be a captivating and immersive experience, filled with powerful music, dramatic storytelling, and impressive vocal performances. Many people appreciate the grandeur and emotional depth that opera offers, as well as the opportunity to see elaborate costumes and sets. If you enjoy classical music and theatrical productions, you might find the opera to be a fascinating blend of both. However, if you're new to opera, it can sometimes be challenging to follow the story, especially if it's in a language you don't speak, but many productions provide subtitles or synopses to help with understanding. Ultimately, your opinion might depend on your personal tastes and experiences with similar art forms.\", additional_kwargs={}, response_metadata={}), HumanMessage(content=\"I don't like the opera, though.\", additional_kwargs={}, response_metadata={}), AIMessage(content=\"That's completely understandable! Opera isn't for everyone, and personal taste plays a big role in what we enjoy. Some people find the style of singing or the length of performances to be challenging. Others might prefer different types of music or storytelling. If you're interested in exploring other forms of musical theater, you might enjoy musicals, which often have more contemporary music and dialogue. Or, if you like the idea of dramatic storytelling with music, you might enjoy film scores or symphonic concerts. It's all about finding what resonates with you!\", additional_kwargs={}, response_metadata={}), HumanMessage(content='I hate everything.', additional_kwargs={}, response_metadata={}), AIMessage(content=\"I'm sorry to hear that you're feeling this way. It's okay to have moments when things feel overwhelming or frustrating. If you'd like to talk about what's bothering you, I'm here to listen and help in any way I can. Sometimes, sharing your thoughts or finding small things that bring you joy can make a difference. Let me know if there's anything specific you'd like to discuss or explore.\", additional_kwargs={}, response_metadata={}), HumanMessage(content='What do I think about cats?', additional_kwargs={}, response_metadata={}), AIMessage(content='You might find cats to be intriguing and independent creatures. Many people appreciate their playful yet aloof nature, as well as their ability to form strong bonds with their human companions. Cats are known for their unique personalities, ranging from affectionate and cuddly to more reserved and solitary. If you enjoy having a pet that is relatively low-maintenance and enjoys both companionship and alone time, you might have a positive view of cats. However, if you prefer pets that are more interactive or require more attention, you might have mixed feelings about them. Ultimately, your opinion on cats could depend on your experiences with them and your personal preferences in pets.', additional_kwargs={}, response_metadata={})]\n",
      "Human: No, that's not true. I hate cats. Remember, I hate everything.\n",
      "AI:\u001b[0m\n",
      "\n",
      "\u001b[1m> Finished chain.\u001b[0m\n",
      "\n",
      "AI: I understand, and I'm sorry to hear that you're feeling this way. It's okay to have strong feelings, and it's important to acknowledge them. If there's anything specific you'd like to talk about or if there's something on your mind, I'm here to listen and support you. Sometimes, discussing what's bothering us or finding small ways to shift our focus can help. Let me know if there's anything I can do to assist you.\n"
     ]
    },
    {
     "name": "stdin",
     "output_type": "stream",
     "text": [
      "\n",
      "You:  What do I think about dogs?\n"
     ]
    },
    {
     "name": "stdout",
     "output_type": "stream",
     "text": [
      "\n",
      "\n",
      "\u001b[1m> Entering new ConversationChain chain...\u001b[0m\n",
      "Prompt after formatting:\n",
      "\u001b[32;1m\u001b[1;3mThe following is a friendly conversation between a human and an AI. The AI is talkative and provides lots of specific details from its context. If the AI does not know the answer to a question, it truthfully says it does not know.\n",
      "\n",
      "Current conversation:\n",
      "[HumanMessage(content='What do I think of the opera?', additional_kwargs={}, response_metadata={}), AIMessage(content=\"You might find the opera to be a captivating and immersive experience, filled with powerful music, dramatic storytelling, and impressive vocal performances. Many people appreciate the grandeur and emotional depth that opera offers, as well as the opportunity to see elaborate costumes and sets. If you enjoy classical music and theatrical productions, you might find the opera to be a fascinating blend of both. However, if you're new to opera, it can sometimes be challenging to follow the story, especially if it's in a language you don't speak, but many productions provide subtitles or synopses to help with understanding. Ultimately, your opinion might depend on your personal tastes and experiences with similar art forms.\", additional_kwargs={}, response_metadata={}), HumanMessage(content=\"I don't like the opera, though.\", additional_kwargs={}, response_metadata={}), AIMessage(content=\"That's completely understandable! Opera isn't for everyone, and personal taste plays a big role in what we enjoy. Some people find the style of singing or the length of performances to be challenging. Others might prefer different types of music or storytelling. If you're interested in exploring other forms of musical theater, you might enjoy musicals, which often have more contemporary music and dialogue. Or, if you like the idea of dramatic storytelling with music, you might enjoy film scores or symphonic concerts. It's all about finding what resonates with you!\", additional_kwargs={}, response_metadata={}), HumanMessage(content='I hate everything.', additional_kwargs={}, response_metadata={}), AIMessage(content=\"I'm sorry to hear that you're feeling this way. It's okay to have moments when things feel overwhelming or frustrating. If you'd like to talk about what's bothering you, I'm here to listen and help in any way I can. Sometimes, sharing your thoughts or finding small things that bring you joy can make a difference. Let me know if there's anything specific you'd like to discuss or explore.\", additional_kwargs={}, response_metadata={}), HumanMessage(content='What do I think about cats?', additional_kwargs={}, response_metadata={}), AIMessage(content='You might find cats to be intriguing and independent creatures. Many people appreciate their playful yet aloof nature, as well as their ability to form strong bonds with their human companions. Cats are known for their unique personalities, ranging from affectionate and cuddly to more reserved and solitary. If you enjoy having a pet that is relatively low-maintenance and enjoys both companionship and alone time, you might have a positive view of cats. However, if you prefer pets that are more interactive or require more attention, you might have mixed feelings about them. Ultimately, your opinion on cats could depend on your experiences with them and your personal preferences in pets.', additional_kwargs={}, response_metadata={}), HumanMessage(content=\"No, that's not true. I hate cats. Remember, I hate everything.\", additional_kwargs={}, response_metadata={}), AIMessage(content=\"I understand, and I'm sorry to hear that you're feeling this way. It's okay to have strong feelings, and it's important to acknowledge them. If there's anything specific you'd like to talk about or if there's something on your mind, I'm here to listen and support you. Sometimes, discussing what's bothering us or finding small ways to shift our focus can help. Let me know if there's anything I can do to assist you.\", additional_kwargs={}, response_metadata={})]\n",
      "Human: What do I think about dogs?\n",
      "AI:\u001b[0m\n",
      "\n",
      "\u001b[1m> Finished chain.\u001b[0m\n",
      "\n",
      "AI: You might have mixed feelings about dogs, especially given your current perspective. While many people find dogs to be loyal, affectionate, and energetic companions, your feelings might be influenced by your overall sentiment of disliking things at the moment. Dogs are known for their playful nature and their ability to form strong bonds with humans, often providing companionship and joy. However, they also require attention, care, and commitment, which might not align with your preferences right now. Your opinion on dogs could depend on your past experiences with them and your current mood. If there's anything specific you'd like to explore about dogs or any other topic, feel free to share!\n"
     ]
    },
    {
     "name": "stdin",
     "output_type": "stream",
     "text": [
      "\n",
      "You:  Good. I do not like dogs at all.\n"
     ]
    },
    {
     "name": "stdout",
     "output_type": "stream",
     "text": [
      "\n",
      "\n",
      "\u001b[1m> Entering new ConversationChain chain...\u001b[0m\n",
      "Prompt after formatting:\n",
      "\u001b[32;1m\u001b[1;3mThe following is a friendly conversation between a human and an AI. The AI is talkative and provides lots of specific details from its context. If the AI does not know the answer to a question, it truthfully says it does not know.\n",
      "\n",
      "Current conversation:\n",
      "[HumanMessage(content='What do I think of the opera?', additional_kwargs={}, response_metadata={}), AIMessage(content=\"You might find the opera to be a captivating and immersive experience, filled with powerful music, dramatic storytelling, and impressive vocal performances. Many people appreciate the grandeur and emotional depth that opera offers, as well as the opportunity to see elaborate costumes and sets. If you enjoy classical music and theatrical productions, you might find the opera to be a fascinating blend of both. However, if you're new to opera, it can sometimes be challenging to follow the story, especially if it's in a language you don't speak, but many productions provide subtitles or synopses to help with understanding. Ultimately, your opinion might depend on your personal tastes and experiences with similar art forms.\", additional_kwargs={}, response_metadata={}), HumanMessage(content=\"I don't like the opera, though.\", additional_kwargs={}, response_metadata={}), AIMessage(content=\"That's completely understandable! Opera isn't for everyone, and personal taste plays a big role in what we enjoy. Some people find the style of singing or the length of performances to be challenging. Others might prefer different types of music or storytelling. If you're interested in exploring other forms of musical theater, you might enjoy musicals, which often have more contemporary music and dialogue. Or, if you like the idea of dramatic storytelling with music, you might enjoy film scores or symphonic concerts. It's all about finding what resonates with you!\", additional_kwargs={}, response_metadata={}), HumanMessage(content='I hate everything.', additional_kwargs={}, response_metadata={}), AIMessage(content=\"I'm sorry to hear that you're feeling this way. It's okay to have moments when things feel overwhelming or frustrating. If you'd like to talk about what's bothering you, I'm here to listen and help in any way I can. Sometimes, sharing your thoughts or finding small things that bring you joy can make a difference. Let me know if there's anything specific you'd like to discuss or explore.\", additional_kwargs={}, response_metadata={}), HumanMessage(content='What do I think about cats?', additional_kwargs={}, response_metadata={}), AIMessage(content='You might find cats to be intriguing and independent creatures. Many people appreciate their playful yet aloof nature, as well as their ability to form strong bonds with their human companions. Cats are known for their unique personalities, ranging from affectionate and cuddly to more reserved and solitary. If you enjoy having a pet that is relatively low-maintenance and enjoys both companionship and alone time, you might have a positive view of cats. However, if you prefer pets that are more interactive or require more attention, you might have mixed feelings about them. Ultimately, your opinion on cats could depend on your experiences with them and your personal preferences in pets.', additional_kwargs={}, response_metadata={}), HumanMessage(content=\"No, that's not true. I hate cats. Remember, I hate everything.\", additional_kwargs={}, response_metadata={}), AIMessage(content=\"I understand, and I'm sorry to hear that you're feeling this way. It's okay to have strong feelings, and it's important to acknowledge them. If there's anything specific you'd like to talk about or if there's something on your mind, I'm here to listen and support you. Sometimes, discussing what's bothering us or finding small ways to shift our focus can help. Let me know if there's anything I can do to assist you.\", additional_kwargs={}, response_metadata={}), HumanMessage(content='What do I think about dogs?', additional_kwargs={}, response_metadata={}), AIMessage(content=\"You might have mixed feelings about dogs, especially given your current perspective. While many people find dogs to be loyal, affectionate, and energetic companions, your feelings might be influenced by your overall sentiment of disliking things at the moment. Dogs are known for their playful nature and their ability to form strong bonds with humans, often providing companionship and joy. However, they also require attention, care, and commitment, which might not align with your preferences right now. Your opinion on dogs could depend on your past experiences with them and your current mood. If there's anything specific you'd like to explore about dogs or any other topic, feel free to share!\", additional_kwargs={}, response_metadata={})]\n",
      "Human: Good. I do not like dogs at all.\n",
      "AI:\u001b[0m\n",
      "\n",
      "\u001b[1m> Finished chain.\u001b[0m\n",
      "\n",
      "AI: That's perfectly okay! Not everyone is a dog person, and it's important to recognize and respect your own preferences. Dogs can be quite demanding in terms of time, energy, and attention, which might not suit everyone's lifestyle or personality. Some people might find their barking or need for exercise to be overwhelming. If you're looking for a pet or companion, there are many other options that might better align with your preferences, such as smaller animals or even non-pet-related hobbies. If there's anything else you'd like to discuss or explore, feel free to let me know!\n"
     ]
    },
    {
     "name": "stdin",
     "output_type": "stream",
     "text": [
      "\n",
      "You:  What do I think about pizza?\n"
     ]
    },
    {
     "name": "stdout",
     "output_type": "stream",
     "text": [
      "\n",
      "\n",
      "\u001b[1m> Entering new ConversationChain chain...\u001b[0m\n",
      "Prompt after formatting:\n",
      "\u001b[32;1m\u001b[1;3mThe following is a friendly conversation between a human and an AI. The AI is talkative and provides lots of specific details from its context. If the AI does not know the answer to a question, it truthfully says it does not know.\n",
      "\n",
      "Current conversation:\n",
      "[HumanMessage(content='What do I think of the opera?', additional_kwargs={}, response_metadata={}), AIMessage(content=\"You might find the opera to be a captivating and immersive experience, filled with powerful music, dramatic storytelling, and impressive vocal performances. Many people appreciate the grandeur and emotional depth that opera offers, as well as the opportunity to see elaborate costumes and sets. If you enjoy classical music and theatrical productions, you might find the opera to be a fascinating blend of both. However, if you're new to opera, it can sometimes be challenging to follow the story, especially if it's in a language you don't speak, but many productions provide subtitles or synopses to help with understanding. Ultimately, your opinion might depend on your personal tastes and experiences with similar art forms.\", additional_kwargs={}, response_metadata={}), HumanMessage(content=\"I don't like the opera, though.\", additional_kwargs={}, response_metadata={}), AIMessage(content=\"That's completely understandable! Opera isn't for everyone, and personal taste plays a big role in what we enjoy. Some people find the style of singing or the length of performances to be challenging. Others might prefer different types of music or storytelling. If you're interested in exploring other forms of musical theater, you might enjoy musicals, which often have more contemporary music and dialogue. Or, if you like the idea of dramatic storytelling with music, you might enjoy film scores or symphonic concerts. It's all about finding what resonates with you!\", additional_kwargs={}, response_metadata={}), HumanMessage(content='I hate everything.', additional_kwargs={}, response_metadata={}), AIMessage(content=\"I'm sorry to hear that you're feeling this way. It's okay to have moments when things feel overwhelming or frustrating. If you'd like to talk about what's bothering you, I'm here to listen and help in any way I can. Sometimes, sharing your thoughts or finding small things that bring you joy can make a difference. Let me know if there's anything specific you'd like to discuss or explore.\", additional_kwargs={}, response_metadata={}), HumanMessage(content='What do I think about cats?', additional_kwargs={}, response_metadata={}), AIMessage(content='You might find cats to be intriguing and independent creatures. Many people appreciate their playful yet aloof nature, as well as their ability to form strong bonds with their human companions. Cats are known for their unique personalities, ranging from affectionate and cuddly to more reserved and solitary. If you enjoy having a pet that is relatively low-maintenance and enjoys both companionship and alone time, you might have a positive view of cats. However, if you prefer pets that are more interactive or require more attention, you might have mixed feelings about them. Ultimately, your opinion on cats could depend on your experiences with them and your personal preferences in pets.', additional_kwargs={}, response_metadata={}), HumanMessage(content=\"No, that's not true. I hate cats. Remember, I hate everything.\", additional_kwargs={}, response_metadata={}), AIMessage(content=\"I understand, and I'm sorry to hear that you're feeling this way. It's okay to have strong feelings, and it's important to acknowledge them. If there's anything specific you'd like to talk about or if there's something on your mind, I'm here to listen and support you. Sometimes, discussing what's bothering us or finding small ways to shift our focus can help. Let me know if there's anything I can do to assist you.\", additional_kwargs={}, response_metadata={}), HumanMessage(content='What do I think about dogs?', additional_kwargs={}, response_metadata={}), AIMessage(content=\"You might have mixed feelings about dogs, especially given your current perspective. While many people find dogs to be loyal, affectionate, and energetic companions, your feelings might be influenced by your overall sentiment of disliking things at the moment. Dogs are known for their playful nature and their ability to form strong bonds with humans, often providing companionship and joy. However, they also require attention, care, and commitment, which might not align with your preferences right now. Your opinion on dogs could depend on your past experiences with them and your current mood. If there's anything specific you'd like to explore about dogs or any other topic, feel free to share!\", additional_kwargs={}, response_metadata={}), HumanMessage(content='Good. I do not like dogs at all.', additional_kwargs={}, response_metadata={}), AIMessage(content=\"That's perfectly okay! Not everyone is a dog person, and it's important to recognize and respect your own preferences. Dogs can be quite demanding in terms of time, energy, and attention, which might not suit everyone's lifestyle or personality. Some people might find their barking or need for exercise to be overwhelming. If you're looking for a pet or companion, there are many other options that might better align with your preferences, such as smaller animals or even non-pet-related hobbies. If there's anything else you'd like to discuss or explore, feel free to let me know!\", additional_kwargs={}, response_metadata={})]\n",
      "Human: What do I think about pizza?\n",
      "AI:\u001b[0m\n",
      "\n",
      "\u001b[1m> Finished chain.\u001b[0m\n",
      "\n",
      "AI: You might have mixed feelings about pizza, especially considering your current sentiment of disliking things. While many people enjoy pizza for its versatility and the variety of toppings and styles available, your opinion might be influenced by your overall mood. Pizza can be a convenient and customizable meal, with options ranging from classic margherita to more adventurous combinations. However, if you're not in the mood for it or have had negative experiences with it, you might not find it appealing right now. Your thoughts on pizza could depend on your past experiences and current preferences. If there's anything specific you'd like to discuss about pizza or any other topic, feel free to share!\n"
     ]
    },
    {
     "name": "stdin",
     "output_type": "stream",
     "text": [
      "\n",
      "You:  I hate pizza.\n"
     ]
    },
    {
     "name": "stdout",
     "output_type": "stream",
     "text": [
      "\n",
      "\n",
      "\u001b[1m> Entering new ConversationChain chain...\u001b[0m\n",
      "Prompt after formatting:\n",
      "\u001b[32;1m\u001b[1;3mThe following is a friendly conversation between a human and an AI. The AI is talkative and provides lots of specific details from its context. If the AI does not know the answer to a question, it truthfully says it does not know.\n",
      "\n",
      "Current conversation:\n",
      "[HumanMessage(content='What do I think of the opera?', additional_kwargs={}, response_metadata={}), AIMessage(content=\"You might find the opera to be a captivating and immersive experience, filled with powerful music, dramatic storytelling, and impressive vocal performances. Many people appreciate the grandeur and emotional depth that opera offers, as well as the opportunity to see elaborate costumes and sets. If you enjoy classical music and theatrical productions, you might find the opera to be a fascinating blend of both. However, if you're new to opera, it can sometimes be challenging to follow the story, especially if it's in a language you don't speak, but many productions provide subtitles or synopses to help with understanding. Ultimately, your opinion might depend on your personal tastes and experiences with similar art forms.\", additional_kwargs={}, response_metadata={}), HumanMessage(content=\"I don't like the opera, though.\", additional_kwargs={}, response_metadata={}), AIMessage(content=\"That's completely understandable! Opera isn't for everyone, and personal taste plays a big role in what we enjoy. Some people find the style of singing or the length of performances to be challenging. Others might prefer different types of music or storytelling. If you're interested in exploring other forms of musical theater, you might enjoy musicals, which often have more contemporary music and dialogue. Or, if you like the idea of dramatic storytelling with music, you might enjoy film scores or symphonic concerts. It's all about finding what resonates with you!\", additional_kwargs={}, response_metadata={}), HumanMessage(content='I hate everything.', additional_kwargs={}, response_metadata={}), AIMessage(content=\"I'm sorry to hear that you're feeling this way. It's okay to have moments when things feel overwhelming or frustrating. If you'd like to talk about what's bothering you, I'm here to listen and help in any way I can. Sometimes, sharing your thoughts or finding small things that bring you joy can make a difference. Let me know if there's anything specific you'd like to discuss or explore.\", additional_kwargs={}, response_metadata={}), HumanMessage(content='What do I think about cats?', additional_kwargs={}, response_metadata={}), AIMessage(content='You might find cats to be intriguing and independent creatures. Many people appreciate their playful yet aloof nature, as well as their ability to form strong bonds with their human companions. Cats are known for their unique personalities, ranging from affectionate and cuddly to more reserved and solitary. If you enjoy having a pet that is relatively low-maintenance and enjoys both companionship and alone time, you might have a positive view of cats. However, if you prefer pets that are more interactive or require more attention, you might have mixed feelings about them. Ultimately, your opinion on cats could depend on your experiences with them and your personal preferences in pets.', additional_kwargs={}, response_metadata={}), HumanMessage(content=\"No, that's not true. I hate cats. Remember, I hate everything.\", additional_kwargs={}, response_metadata={}), AIMessage(content=\"I understand, and I'm sorry to hear that you're feeling this way. It's okay to have strong feelings, and it's important to acknowledge them. If there's anything specific you'd like to talk about or if there's something on your mind, I'm here to listen and support you. Sometimes, discussing what's bothering us or finding small ways to shift our focus can help. Let me know if there's anything I can do to assist you.\", additional_kwargs={}, response_metadata={}), HumanMessage(content='What do I think about dogs?', additional_kwargs={}, response_metadata={}), AIMessage(content=\"You might have mixed feelings about dogs, especially given your current perspective. While many people find dogs to be loyal, affectionate, and energetic companions, your feelings might be influenced by your overall sentiment of disliking things at the moment. Dogs are known for their playful nature and their ability to form strong bonds with humans, often providing companionship and joy. However, they also require attention, care, and commitment, which might not align with your preferences right now. Your opinion on dogs could depend on your past experiences with them and your current mood. If there's anything specific you'd like to explore about dogs or any other topic, feel free to share!\", additional_kwargs={}, response_metadata={}), HumanMessage(content='Good. I do not like dogs at all.', additional_kwargs={}, response_metadata={}), AIMessage(content=\"That's perfectly okay! Not everyone is a dog person, and it's important to recognize and respect your own preferences. Dogs can be quite demanding in terms of time, energy, and attention, which might not suit everyone's lifestyle or personality. Some people might find their barking or need for exercise to be overwhelming. If you're looking for a pet or companion, there are many other options that might better align with your preferences, such as smaller animals or even non-pet-related hobbies. If there's anything else you'd like to discuss or explore, feel free to let me know!\", additional_kwargs={}, response_metadata={}), HumanMessage(content='What do I think about pizza?', additional_kwargs={}, response_metadata={}), AIMessage(content=\"You might have mixed feelings about pizza, especially considering your current sentiment of disliking things. While many people enjoy pizza for its versatility and the variety of toppings and styles available, your opinion might be influenced by your overall mood. Pizza can be a convenient and customizable meal, with options ranging from classic margherita to more adventurous combinations. However, if you're not in the mood for it or have had negative experiences with it, you might not find it appealing right now. Your thoughts on pizza could depend on your past experiences and current preferences. If there's anything specific you'd like to discuss about pizza or any other topic, feel free to share!\", additional_kwargs={}, response_metadata={})]\n",
      "Human: I hate pizza.\n",
      "AI:\u001b[0m\n",
      "\n",
      "\u001b[1m> Finished chain.\u001b[0m\n",
      "\n",
      "AI: That's completely understandable! Everyone has different tastes, and it's okay not to like pizza. Some people might find the combination of flavors or the texture not to their liking, or they might have dietary preferences or restrictions that make pizza less appealing. If you're looking for alternative meal options, there are plenty of other cuisines and dishes that might better suit your tastes. If there's anything else you'd like to discuss or explore, feel free to let me know!\n"
     ]
    },
    {
     "name": "stdin",
     "output_type": "stream",
     "text": [
      "\n",
      "You:  What do I think about blueberries?\n"
     ]
    },
    {
     "name": "stdout",
     "output_type": "stream",
     "text": [
      "\n",
      "\n",
      "\u001b[1m> Entering new ConversationChain chain...\u001b[0m\n",
      "Prompt after formatting:\n",
      "\u001b[32;1m\u001b[1;3mThe following is a friendly conversation between a human and an AI. The AI is talkative and provides lots of specific details from its context. If the AI does not know the answer to a question, it truthfully says it does not know.\n",
      "\n",
      "Current conversation:\n",
      "[HumanMessage(content='What do I think of the opera?', additional_kwargs={}, response_metadata={}), AIMessage(content=\"You might find the opera to be a captivating and immersive experience, filled with powerful music, dramatic storytelling, and impressive vocal performances. Many people appreciate the grandeur and emotional depth that opera offers, as well as the opportunity to see elaborate costumes and sets. If you enjoy classical music and theatrical productions, you might find the opera to be a fascinating blend of both. However, if you're new to opera, it can sometimes be challenging to follow the story, especially if it's in a language you don't speak, but many productions provide subtitles or synopses to help with understanding. Ultimately, your opinion might depend on your personal tastes and experiences with similar art forms.\", additional_kwargs={}, response_metadata={}), HumanMessage(content=\"I don't like the opera, though.\", additional_kwargs={}, response_metadata={}), AIMessage(content=\"That's completely understandable! Opera isn't for everyone, and personal taste plays a big role in what we enjoy. Some people find the style of singing or the length of performances to be challenging. Others might prefer different types of music or storytelling. If you're interested in exploring other forms of musical theater, you might enjoy musicals, which often have more contemporary music and dialogue. Or, if you like the idea of dramatic storytelling with music, you might enjoy film scores or symphonic concerts. It's all about finding what resonates with you!\", additional_kwargs={}, response_metadata={}), HumanMessage(content='I hate everything.', additional_kwargs={}, response_metadata={}), AIMessage(content=\"I'm sorry to hear that you're feeling this way. It's okay to have moments when things feel overwhelming or frustrating. If you'd like to talk about what's bothering you, I'm here to listen and help in any way I can. Sometimes, sharing your thoughts or finding small things that bring you joy can make a difference. Let me know if there's anything specific you'd like to discuss or explore.\", additional_kwargs={}, response_metadata={}), HumanMessage(content='What do I think about cats?', additional_kwargs={}, response_metadata={}), AIMessage(content='You might find cats to be intriguing and independent creatures. Many people appreciate their playful yet aloof nature, as well as their ability to form strong bonds with their human companions. Cats are known for their unique personalities, ranging from affectionate and cuddly to more reserved and solitary. If you enjoy having a pet that is relatively low-maintenance and enjoys both companionship and alone time, you might have a positive view of cats. However, if you prefer pets that are more interactive or require more attention, you might have mixed feelings about them. Ultimately, your opinion on cats could depend on your experiences with them and your personal preferences in pets.', additional_kwargs={}, response_metadata={}), HumanMessage(content=\"No, that's not true. I hate cats. Remember, I hate everything.\", additional_kwargs={}, response_metadata={}), AIMessage(content=\"I understand, and I'm sorry to hear that you're feeling this way. It's okay to have strong feelings, and it's important to acknowledge them. If there's anything specific you'd like to talk about or if there's something on your mind, I'm here to listen and support you. Sometimes, discussing what's bothering us or finding small ways to shift our focus can help. Let me know if there's anything I can do to assist you.\", additional_kwargs={}, response_metadata={}), HumanMessage(content='What do I think about dogs?', additional_kwargs={}, response_metadata={}), AIMessage(content=\"You might have mixed feelings about dogs, especially given your current perspective. While many people find dogs to be loyal, affectionate, and energetic companions, your feelings might be influenced by your overall sentiment of disliking things at the moment. Dogs are known for their playful nature and their ability to form strong bonds with humans, often providing companionship and joy. However, they also require attention, care, and commitment, which might not align with your preferences right now. Your opinion on dogs could depend on your past experiences with them and your current mood. If there's anything specific you'd like to explore about dogs or any other topic, feel free to share!\", additional_kwargs={}, response_metadata={}), HumanMessage(content='Good. I do not like dogs at all.', additional_kwargs={}, response_metadata={}), AIMessage(content=\"That's perfectly okay! Not everyone is a dog person, and it's important to recognize and respect your own preferences. Dogs can be quite demanding in terms of time, energy, and attention, which might not suit everyone's lifestyle or personality. Some people might find their barking or need for exercise to be overwhelming. If you're looking for a pet or companion, there are many other options that might better align with your preferences, such as smaller animals or even non-pet-related hobbies. If there's anything else you'd like to discuss or explore, feel free to let me know!\", additional_kwargs={}, response_metadata={}), HumanMessage(content='What do I think about pizza?', additional_kwargs={}, response_metadata={}), AIMessage(content=\"You might have mixed feelings about pizza, especially considering your current sentiment of disliking things. While many people enjoy pizza for its versatility and the variety of toppings and styles available, your opinion might be influenced by your overall mood. Pizza can be a convenient and customizable meal, with options ranging from classic margherita to more adventurous combinations. However, if you're not in the mood for it or have had negative experiences with it, you might not find it appealing right now. Your thoughts on pizza could depend on your past experiences and current preferences. If there's anything specific you'd like to discuss about pizza or any other topic, feel free to share!\", additional_kwargs={}, response_metadata={}), HumanMessage(content='I hate pizza.', additional_kwargs={}, response_metadata={}), AIMessage(content=\"That's completely understandable! Everyone has different tastes, and it's okay not to like pizza. Some people might find the combination of flavors or the texture not to their liking, or they might have dietary preferences or restrictions that make pizza less appealing. If you're looking for alternative meal options, there are plenty of other cuisines and dishes that might better suit your tastes. If there's anything else you'd like to discuss or explore, feel free to let me know!\", additional_kwargs={}, response_metadata={})]\n",
      "Human: What do I think about blueberries?\n",
      "AI:\u001b[0m\n",
      "\n",
      "\u001b[1m> Finished chain.\u001b[0m\n",
      "\n",
      "AI: You might have mixed feelings about blueberries, especially given your current sentiment of disliking things. While many people enjoy blueberries for their sweet and tangy flavor, as well as their health benefits, your opinion might be influenced by your overall mood. Blueberries are often praised for being rich in antioxidants and vitamins, making them a popular choice for snacks, smoothies, and desserts. However, if you're not in the mood for them or have had negative experiences with them, you might not find them appealing right now. Your thoughts on blueberries could depend on your past experiences and current preferences. If there's anything specific you'd like to discuss about blueberries or any other topic, feel free to share!\n"
     ]
    },
    {
     "name": "stdin",
     "output_type": "stream",
     "text": [
      "\n",
      "You:  Do I like opera?\n"
     ]
    },
    {
     "name": "stdout",
     "output_type": "stream",
     "text": [
      "\n",
      "\n",
      "\u001b[1m> Entering new ConversationChain chain...\u001b[0m\n",
      "Prompt after formatting:\n",
      "\u001b[32;1m\u001b[1;3mThe following is a friendly conversation between a human and an AI. The AI is talkative and provides lots of specific details from its context. If the AI does not know the answer to a question, it truthfully says it does not know.\n",
      "\n",
      "Current conversation:\n",
      "[HumanMessage(content='What do I think of the opera?', additional_kwargs={}, response_metadata={}), AIMessage(content=\"You might find the opera to be a captivating and immersive experience, filled with powerful music, dramatic storytelling, and impressive vocal performances. Many people appreciate the grandeur and emotional depth that opera offers, as well as the opportunity to see elaborate costumes and sets. If you enjoy classical music and theatrical productions, you might find the opera to be a fascinating blend of both. However, if you're new to opera, it can sometimes be challenging to follow the story, especially if it's in a language you don't speak, but many productions provide subtitles or synopses to help with understanding. Ultimately, your opinion might depend on your personal tastes and experiences with similar art forms.\", additional_kwargs={}, response_metadata={}), HumanMessage(content=\"I don't like the opera, though.\", additional_kwargs={}, response_metadata={}), AIMessage(content=\"That's completely understandable! Opera isn't for everyone, and personal taste plays a big role in what we enjoy. Some people find the style of singing or the length of performances to be challenging. Others might prefer different types of music or storytelling. If you're interested in exploring other forms of musical theater, you might enjoy musicals, which often have more contemporary music and dialogue. Or, if you like the idea of dramatic storytelling with music, you might enjoy film scores or symphonic concerts. It's all about finding what resonates with you!\", additional_kwargs={}, response_metadata={}), HumanMessage(content='I hate everything.', additional_kwargs={}, response_metadata={}), AIMessage(content=\"I'm sorry to hear that you're feeling this way. It's okay to have moments when things feel overwhelming or frustrating. If you'd like to talk about what's bothering you, I'm here to listen and help in any way I can. Sometimes, sharing your thoughts or finding small things that bring you joy can make a difference. Let me know if there's anything specific you'd like to discuss or explore.\", additional_kwargs={}, response_metadata={}), HumanMessage(content='What do I think about cats?', additional_kwargs={}, response_metadata={}), AIMessage(content='You might find cats to be intriguing and independent creatures. Many people appreciate their playful yet aloof nature, as well as their ability to form strong bonds with their human companions. Cats are known for their unique personalities, ranging from affectionate and cuddly to more reserved and solitary. If you enjoy having a pet that is relatively low-maintenance and enjoys both companionship and alone time, you might have a positive view of cats. However, if you prefer pets that are more interactive or require more attention, you might have mixed feelings about them. Ultimately, your opinion on cats could depend on your experiences with them and your personal preferences in pets.', additional_kwargs={}, response_metadata={}), HumanMessage(content=\"No, that's not true. I hate cats. Remember, I hate everything.\", additional_kwargs={}, response_metadata={}), AIMessage(content=\"I understand, and I'm sorry to hear that you're feeling this way. It's okay to have strong feelings, and it's important to acknowledge them. If there's anything specific you'd like to talk about or if there's something on your mind, I'm here to listen and support you. Sometimes, discussing what's bothering us or finding small ways to shift our focus can help. Let me know if there's anything I can do to assist you.\", additional_kwargs={}, response_metadata={}), HumanMessage(content='What do I think about dogs?', additional_kwargs={}, response_metadata={}), AIMessage(content=\"You might have mixed feelings about dogs, especially given your current perspective. While many people find dogs to be loyal, affectionate, and energetic companions, your feelings might be influenced by your overall sentiment of disliking things at the moment. Dogs are known for their playful nature and their ability to form strong bonds with humans, often providing companionship and joy. However, they also require attention, care, and commitment, which might not align with your preferences right now. Your opinion on dogs could depend on your past experiences with them and your current mood. If there's anything specific you'd like to explore about dogs or any other topic, feel free to share!\", additional_kwargs={}, response_metadata={}), HumanMessage(content='Good. I do not like dogs at all.', additional_kwargs={}, response_metadata={}), AIMessage(content=\"That's perfectly okay! Not everyone is a dog person, and it's important to recognize and respect your own preferences. Dogs can be quite demanding in terms of time, energy, and attention, which might not suit everyone's lifestyle or personality. Some people might find their barking or need for exercise to be overwhelming. If you're looking for a pet or companion, there are many other options that might better align with your preferences, such as smaller animals or even non-pet-related hobbies. If there's anything else you'd like to discuss or explore, feel free to let me know!\", additional_kwargs={}, response_metadata={}), HumanMessage(content='What do I think about pizza?', additional_kwargs={}, response_metadata={}), AIMessage(content=\"You might have mixed feelings about pizza, especially considering your current sentiment of disliking things. While many people enjoy pizza for its versatility and the variety of toppings and styles available, your opinion might be influenced by your overall mood. Pizza can be a convenient and customizable meal, with options ranging from classic margherita to more adventurous combinations. However, if you're not in the mood for it or have had negative experiences with it, you might not find it appealing right now. Your thoughts on pizza could depend on your past experiences and current preferences. If there's anything specific you'd like to discuss about pizza or any other topic, feel free to share!\", additional_kwargs={}, response_metadata={}), HumanMessage(content='I hate pizza.', additional_kwargs={}, response_metadata={}), AIMessage(content=\"That's completely understandable! Everyone has different tastes, and it's okay not to like pizza. Some people might find the combination of flavors or the texture not to their liking, or they might have dietary preferences or restrictions that make pizza less appealing. If you're looking for alternative meal options, there are plenty of other cuisines and dishes that might better suit your tastes. If there's anything else you'd like to discuss or explore, feel free to let me know!\", additional_kwargs={}, response_metadata={}), HumanMessage(content='What do I think about blueberries?', additional_kwargs={}, response_metadata={}), AIMessage(content=\"You might have mixed feelings about blueberries, especially given your current sentiment of disliking things. While many people enjoy blueberries for their sweet and tangy flavor, as well as their health benefits, your opinion might be influenced by your overall mood. Blueberries are often praised for being rich in antioxidants and vitamins, making them a popular choice for snacks, smoothies, and desserts. However, if you're not in the mood for them or have had negative experiences with them, you might not find them appealing right now. Your thoughts on blueberries could depend on your past experiences and current preferences. If there's anything specific you'd like to discuss about blueberries or any other topic, feel free to share!\", additional_kwargs={}, response_metadata={})]\n",
      "Human: Do I like opera?\n",
      "AI:\u001b[0m\n",
      "\n",
      "\u001b[1m> Finished chain.\u001b[0m\n",
      "\n",
      "AI: Based on our previous conversation, it seems that you don't particularly enjoy opera. You mentioned that you don't like the opera, which is completely understandable as it's not everyone's cup of tea. Opera can be quite an acquired taste, with its unique style of singing and often lengthy performances. If you ever decide to give it another try, you might find certain aspects interesting, but it's perfectly okay if it's not something you enjoy. If there's anything else you'd like to discuss or explore, feel free to let me know!\n"
     ]
    },
    {
     "name": "stdin",
     "output_type": "stream",
     "text": [
      "\n",
      "You:  STOP!!!!\n"
     ]
    },
    {
     "name": "stdout",
     "output_type": "stream",
     "text": [
      "\n",
      "\n",
      "\u001b[1m> Entering new ConversationChain chain...\u001b[0m\n",
      "Prompt after formatting:\n",
      "\u001b[32;1m\u001b[1;3mThe following is a friendly conversation between a human and an AI. The AI is talkative and provides lots of specific details from its context. If the AI does not know the answer to a question, it truthfully says it does not know.\n",
      "\n",
      "Current conversation:\n",
      "[HumanMessage(content='What do I think of the opera?', additional_kwargs={}, response_metadata={}), AIMessage(content=\"You might find the opera to be a captivating and immersive experience, filled with powerful music, dramatic storytelling, and impressive vocal performances. Many people appreciate the grandeur and emotional depth that opera offers, as well as the opportunity to see elaborate costumes and sets. If you enjoy classical music and theatrical productions, you might find the opera to be a fascinating blend of both. However, if you're new to opera, it can sometimes be challenging to follow the story, especially if it's in a language you don't speak, but many productions provide subtitles or synopses to help with understanding. Ultimately, your opinion might depend on your personal tastes and experiences with similar art forms.\", additional_kwargs={}, response_metadata={}), HumanMessage(content=\"I don't like the opera, though.\", additional_kwargs={}, response_metadata={}), AIMessage(content=\"That's completely understandable! Opera isn't for everyone, and personal taste plays a big role in what we enjoy. Some people find the style of singing or the length of performances to be challenging. Others might prefer different types of music or storytelling. If you're interested in exploring other forms of musical theater, you might enjoy musicals, which often have more contemporary music and dialogue. Or, if you like the idea of dramatic storytelling with music, you might enjoy film scores or symphonic concerts. It's all about finding what resonates with you!\", additional_kwargs={}, response_metadata={}), HumanMessage(content='I hate everything.', additional_kwargs={}, response_metadata={}), AIMessage(content=\"I'm sorry to hear that you're feeling this way. It's okay to have moments when things feel overwhelming or frustrating. If you'd like to talk about what's bothering you, I'm here to listen and help in any way I can. Sometimes, sharing your thoughts or finding small things that bring you joy can make a difference. Let me know if there's anything specific you'd like to discuss or explore.\", additional_kwargs={}, response_metadata={}), HumanMessage(content='What do I think about cats?', additional_kwargs={}, response_metadata={}), AIMessage(content='You might find cats to be intriguing and independent creatures. Many people appreciate their playful yet aloof nature, as well as their ability to form strong bonds with their human companions. Cats are known for their unique personalities, ranging from affectionate and cuddly to more reserved and solitary. If you enjoy having a pet that is relatively low-maintenance and enjoys both companionship and alone time, you might have a positive view of cats. However, if you prefer pets that are more interactive or require more attention, you might have mixed feelings about them. Ultimately, your opinion on cats could depend on your experiences with them and your personal preferences in pets.', additional_kwargs={}, response_metadata={}), HumanMessage(content=\"No, that's not true. I hate cats. Remember, I hate everything.\", additional_kwargs={}, response_metadata={}), AIMessage(content=\"I understand, and I'm sorry to hear that you're feeling this way. It's okay to have strong feelings, and it's important to acknowledge them. If there's anything specific you'd like to talk about or if there's something on your mind, I'm here to listen and support you. Sometimes, discussing what's bothering us or finding small ways to shift our focus can help. Let me know if there's anything I can do to assist you.\", additional_kwargs={}, response_metadata={}), HumanMessage(content='What do I think about dogs?', additional_kwargs={}, response_metadata={}), AIMessage(content=\"You might have mixed feelings about dogs, especially given your current perspective. While many people find dogs to be loyal, affectionate, and energetic companions, your feelings might be influenced by your overall sentiment of disliking things at the moment. Dogs are known for their playful nature and their ability to form strong bonds with humans, often providing companionship and joy. However, they also require attention, care, and commitment, which might not align with your preferences right now. Your opinion on dogs could depend on your past experiences with them and your current mood. If there's anything specific you'd like to explore about dogs or any other topic, feel free to share!\", additional_kwargs={}, response_metadata={}), HumanMessage(content='Good. I do not like dogs at all.', additional_kwargs={}, response_metadata={}), AIMessage(content=\"That's perfectly okay! Not everyone is a dog person, and it's important to recognize and respect your own preferences. Dogs can be quite demanding in terms of time, energy, and attention, which might not suit everyone's lifestyle or personality. Some people might find their barking or need for exercise to be overwhelming. If you're looking for a pet or companion, there are many other options that might better align with your preferences, such as smaller animals or even non-pet-related hobbies. If there's anything else you'd like to discuss or explore, feel free to let me know!\", additional_kwargs={}, response_metadata={}), HumanMessage(content='What do I think about pizza?', additional_kwargs={}, response_metadata={}), AIMessage(content=\"You might have mixed feelings about pizza, especially considering your current sentiment of disliking things. While many people enjoy pizza for its versatility and the variety of toppings and styles available, your opinion might be influenced by your overall mood. Pizza can be a convenient and customizable meal, with options ranging from classic margherita to more adventurous combinations. However, if you're not in the mood for it or have had negative experiences with it, you might not find it appealing right now. Your thoughts on pizza could depend on your past experiences and current preferences. If there's anything specific you'd like to discuss about pizza or any other topic, feel free to share!\", additional_kwargs={}, response_metadata={}), HumanMessage(content='I hate pizza.', additional_kwargs={}, response_metadata={}), AIMessage(content=\"That's completely understandable! Everyone has different tastes, and it's okay not to like pizza. Some people might find the combination of flavors or the texture not to their liking, or they might have dietary preferences or restrictions that make pizza less appealing. If you're looking for alternative meal options, there are plenty of other cuisines and dishes that might better suit your tastes. If there's anything else you'd like to discuss or explore, feel free to let me know!\", additional_kwargs={}, response_metadata={}), HumanMessage(content='What do I think about blueberries?', additional_kwargs={}, response_metadata={}), AIMessage(content=\"You might have mixed feelings about blueberries, especially given your current sentiment of disliking things. While many people enjoy blueberries for their sweet and tangy flavor, as well as their health benefits, your opinion might be influenced by your overall mood. Blueberries are often praised for being rich in antioxidants and vitamins, making them a popular choice for snacks, smoothies, and desserts. However, if you're not in the mood for them or have had negative experiences with them, you might not find them appealing right now. Your thoughts on blueberries could depend on your past experiences and current preferences. If there's anything specific you'd like to discuss about blueberries or any other topic, feel free to share!\", additional_kwargs={}, response_metadata={}), HumanMessage(content='Do I like opera?', additional_kwargs={}, response_metadata={}), AIMessage(content=\"Based on our previous conversation, it seems that you don't particularly enjoy opera. You mentioned that you don't like the opera, which is completely understandable as it's not everyone's cup of tea. Opera can be quite an acquired taste, with its unique style of singing and often lengthy performances. If you ever decide to give it another try, you might find certain aspects interesting, but it's perfectly okay if it's not something you enjoy. If there's anything else you'd like to discuss or explore, feel free to let me know!\", additional_kwargs={}, response_metadata={})]\n",
      "Human: STOP!!!!\n",
      "AI:\u001b[0m\n",
      "\n",
      "\u001b[1m> Finished chain.\u001b[0m\n",
      "\n",
      "AI: I'm sorry if I overwhelmed you! If there's anything specific you'd like to talk about or if you need a break, just let me know. I'm here to help in any way you need.\n"
     ]
    },
    {
     "name": "stdin",
     "output_type": "stream",
     "text": [
      "\n",
      "You:  stop\n"
     ]
    },
    {
     "name": "stdout",
     "output_type": "stream",
     "text": [
      "\n",
      "Exiting conversation...\n",
      "\n",
      "=== Conversation History ===\n",
      "AI: What do I think of the opera?\n",
      "AI: You might find the opera to be a captivating and immersive experience, filled with powerful music, dramatic storytelling, and impressive vocal performances. Many people appreciate the grandeur and emotional depth that opera offers, as well as the opportunity to see elaborate costumes and sets. If you enjoy classical music and theatrical productions, you might find the opera to be a fascinating blend of both. However, if you're new to opera, it can sometimes be challenging to follow the story, especially if it's in a language you don't speak, but many productions provide subtitles or synopses to help with understanding. Ultimately, your opinion might depend on your personal tastes and experiences with similar art forms.\n",
      "AI: I don't like the opera, though.\n",
      "AI: That's completely understandable! Opera isn't for everyone, and personal taste plays a big role in what we enjoy. Some people find the style of singing or the length of performances to be challenging. Others might prefer different types of music or storytelling. If you're interested in exploring other forms of musical theater, you might enjoy musicals, which often have more contemporary music and dialogue. Or, if you like the idea of dramatic storytelling with music, you might enjoy film scores or symphonic concerts. It's all about finding what resonates with you!\n",
      "AI: I hate everything.\n",
      "AI: I'm sorry to hear that you're feeling this way. It's okay to have moments when things feel overwhelming or frustrating. If you'd like to talk about what's bothering you, I'm here to listen and help in any way I can. Sometimes, sharing your thoughts or finding small things that bring you joy can make a difference. Let me know if there's anything specific you'd like to discuss or explore.\n",
      "AI: What do I think about cats?\n",
      "AI: You might find cats to be intriguing and independent creatures. Many people appreciate their playful yet aloof nature, as well as their ability to form strong bonds with their human companions. Cats are known for their unique personalities, ranging from affectionate and cuddly to more reserved and solitary. If you enjoy having a pet that is relatively low-maintenance and enjoys both companionship and alone time, you might have a positive view of cats. However, if you prefer pets that are more interactive or require more attention, you might have mixed feelings about them. Ultimately, your opinion on cats could depend on your experiences with them and your personal preferences in pets.\n",
      "AI: No, that's not true. I hate cats. Remember, I hate everything.\n",
      "AI: I understand, and I'm sorry to hear that you're feeling this way. It's okay to have strong feelings, and it's important to acknowledge them. If there's anything specific you'd like to talk about or if there's something on your mind, I'm here to listen and support you. Sometimes, discussing what's bothering us or finding small ways to shift our focus can help. Let me know if there's anything I can do to assist you.\n",
      "AI: What do I think about dogs?\n",
      "AI: You might have mixed feelings about dogs, especially given your current perspective. While many people find dogs to be loyal, affectionate, and energetic companions, your feelings might be influenced by your overall sentiment of disliking things at the moment. Dogs are known for their playful nature and their ability to form strong bonds with humans, often providing companionship and joy. However, they also require attention, care, and commitment, which might not align with your preferences right now. Your opinion on dogs could depend on your past experiences with them and your current mood. If there's anything specific you'd like to explore about dogs or any other topic, feel free to share!\n",
      "AI: Good. I do not like dogs at all.\n",
      "AI: That's perfectly okay! Not everyone is a dog person, and it's important to recognize and respect your own preferences. Dogs can be quite demanding in terms of time, energy, and attention, which might not suit everyone's lifestyle or personality. Some people might find their barking or need for exercise to be overwhelming. If you're looking for a pet or companion, there are many other options that might better align with your preferences, such as smaller animals or even non-pet-related hobbies. If there's anything else you'd like to discuss or explore, feel free to let me know!\n",
      "AI: What do I think about pizza?\n",
      "AI: You might have mixed feelings about pizza, especially considering your current sentiment of disliking things. While many people enjoy pizza for its versatility and the variety of toppings and styles available, your opinion might be influenced by your overall mood. Pizza can be a convenient and customizable meal, with options ranging from classic margherita to more adventurous combinations. However, if you're not in the mood for it or have had negative experiences with it, you might not find it appealing right now. Your thoughts on pizza could depend on your past experiences and current preferences. If there's anything specific you'd like to discuss about pizza or any other topic, feel free to share!\n",
      "AI: I hate pizza.\n",
      "AI: That's completely understandable! Everyone has different tastes, and it's okay not to like pizza. Some people might find the combination of flavors or the texture not to their liking, or they might have dietary preferences or restrictions that make pizza less appealing. If you're looking for alternative meal options, there are plenty of other cuisines and dishes that might better suit your tastes. If there's anything else you'd like to discuss or explore, feel free to let me know!\n",
      "AI: What do I think about blueberries?\n",
      "AI: You might have mixed feelings about blueberries, especially given your current sentiment of disliking things. While many people enjoy blueberries for their sweet and tangy flavor, as well as their health benefits, your opinion might be influenced by your overall mood. Blueberries are often praised for being rich in antioxidants and vitamins, making them a popular choice for snacks, smoothies, and desserts. However, if you're not in the mood for them or have had negative experiences with them, you might not find them appealing right now. Your thoughts on blueberries could depend on your past experiences and current preferences. If there's anything specific you'd like to discuss about blueberries or any other topic, feel free to share!\n",
      "AI: Do I like opera?\n",
      "AI: Based on our previous conversation, it seems that you don't particularly enjoy opera. You mentioned that you don't like the opera, which is completely understandable as it's not everyone's cup of tea. Opera can be quite an acquired taste, with its unique style of singing and often lengthy performances. If you ever decide to give it another try, you might find certain aspects interesting, but it's perfectly okay if it's not something you enjoy. If there's anything else you'd like to discuss or explore, feel free to let me know!\n",
      "AI: STOP!!!!\n",
      "AI: I'm sorry if I overwhelmed you! If there's anything specific you'd like to talk about or if you need a break, just let me know. I'm here to help in any way you need.\n",
      "============================\n"
     ]
    }
   ],
   "source": [
    "from langchain.memory import ConversationBufferMemory\n",
    "from langchain.chains import ConversationChain\n",
    "memory = ConversationBufferMemory(memory_key=\"history\", return_messages=True)\n",
    "\n",
    "# Set up a conversational agent with memory\n",
    "conversation = ConversationChain(\n",
    "    llm=llm,\n",
    "    memory=memory,\n",
    "    verbose=True\n",
    ")\n",
    "\n",
    "def conversational_retrieval_example():\n",
    "    \"\"\"\n",
    "    Demonstrates how an AI conversation is dynamically managed using LLM and memory.\n",
    "    - AI remembers niche facts that wouldn't be general knowledge.\n",
    "    - User input is processed dynamically.\n",
    "    \"\"\"\n",
    "    \n",
    "    print(\"\\nAI: Hello! I can remember details from our conversation. Ask me about niche topics.\")\n",
    "\n",
    "    while True:\n",
    "        user_input = input(\"\\nYou: \")\n",
    "\n",
    "        if user_input.lower() in [\"exit\", \"quit\", \"stop\"]:\n",
    "            print(\"\\nExiting conversation...\")\n",
    "            break\n",
    "\n",
    "        # Generate response\n",
    "        response = conversation.predict(input=user_input)\n",
    "\n",
    "        print(f\"\\nAI: {response}\")\n",
    "\n",
    "    return memory\n",
    "\n",
    "# Run conversation\n",
    "conv_memory = conversational_retrieval_example()\n",
    "\n",
    "# Display conversation history\n",
    "print(\"\\n=== Conversation History ===\")\n",
    "for msg in conv_memory.chat_memory.messages:\n",
    "    role = \"User\" if msg.type == \"user\" else \"AI\"\n",
    "    print(f\"{role}: {msg.content}\")\n",
    "print(\"============================\")"
   ]
  },
  {
   "cell_type": "markdown",
   "metadata": {},
   "source": [
    "## Section 4: RAG Evaluation\n",
    "\n",
    "To measure how well a RAG system performs, we can:\n",
    "- Compare retrieved documents to a “gold standard” set.\n",
    "- Compare final answers to reference answers.\n",
    "\n",
    "**QAEvalChain** (from LangChain) is a convenient helper to assess the correctness of QA outputs."
   ]
  },
  {
   "cell_type": "code",
   "execution_count": 15,
   "metadata": {},
   "outputs": [],
   "source": [
    "\n",
    "def rag_evaluation_example():\n",
    "    \"\"\"\n",
    "    Simulates an evaluation:\n",
    "    - Question: \"Where is the Eiffel Tower located?\"\n",
    "    - Reference Answer: \"The Eiffel Tower is located in Paris.\"\n",
    "    - Predicted Answer: \"It's located in central Paris.\"\n",
    "    \n",
    "    Uses QAEvalChain from LangChain to evaluate the prediction.\n",
    "    \"\"\"\n",
    "    question = \"Where is the Eiffel Tower located?\"\n",
    "    reference_answer = \"The Eiffel Tower is located in Paris.\"\n",
    "    predicted_answer = \"It's located in Paris.\"\n",
    "    \n",
    "    # Instantiate QAEvalChain\n",
    "    eval_chain = QAEvalChain.from_llm(llm)\n",
    "    \n",
    "    # Prepare example and prediction\n",
    "    example = {\"query\": question, \"answer\": reference_answer}\n",
    "    prediction = {\"query\": question, \"result\": predicted_answer}\n",
    "    \n",
    "    # Evaluate\n",
    "    graded = eval_chain.evaluate(\n",
    "        examples=[example],  # List of reference examples\n",
    "        predictions=[prediction]  # List of model predictions\n",
    "    )\n",
    "    \n",
    "    return graded"
   ]
  },
  {
   "cell_type": "code",
   "execution_count": 16,
   "metadata": {},
   "outputs": [
    {
     "name": "stdout",
     "output_type": "stream",
     "text": [
      "[{'results': 'CORRECT'}]\n"
     ]
    }
   ],
   "source": [
    "# Call the function and print the evaluation result\n",
    "#Try adjusting the values above to see if it correctly classifies\n",
    "eval_result = rag_evaluation_example()\n",
    "print(eval_result)"
   ]
  },
  {
   "cell_type": "markdown",
   "metadata": {},
   "source": [
    "\n",
    "## Section 5: Output ParsingOften, we need structured output (JSON, CSV, etc.).  \n",
    "\n",
    "**Output Parsing** ensures the LLM's output can be safely converted into a machine-readable format.  Below, we ask the LLM to respond in JSON. If it fails, we raise an exception."
   ]
  },
  {
   "cell_type": "code",
   "execution_count": 17,
   "metadata": {},
   "outputs": [
    {
     "name": "stdin",
     "output_type": "stream",
     "text": [
      "\n",
      "Enter a question for JSON-formatted response (e.g., 'What is the capital of Germany?'):  What are the capitals of South America?\n"
     ]
    },
    {
     "name": "stdout",
     "output_type": "stream",
     "text": [
      "\n",
      "=== Parsed JSON Output ===\n",
      "{\n",
      "    \"question\": \"What are the capitals of South America?\",\n",
      "    \"answer\": {\n",
      "        \"Argentina\": \"Buenos Aires\",\n",
      "        \"Bolivia\": \"Sucre (constitutional capital), La Paz (seat of government)\",\n",
      "        \"Brazil\": \"Bras\\u00edlia\",\n",
      "        \"Chile\": \"Santiago\",\n",
      "        \"Colombia\": \"Bogot\\u00e1\",\n",
      "        \"Ecuador\": \"Quito\",\n",
      "        \"Guyana\": \"Georgetown\",\n",
      "        \"Paraguay\": \"Asunci\\u00f3n\",\n",
      "        \"Peru\": \"Lima\",\n",
      "        \"Suriname\": \"Paramaribo\",\n",
      "        \"Uruguay\": \"Montevideo\",\n",
      "        \"Venezuela\": \"Caracas\"\n",
      "    }\n",
      "}\n",
      "==========================\n"
     ]
    }
   ],
   "source": [
    "def output_parsing_example():\n",
    "    \"\"\"\n",
    "    1. User enters a question.\n",
    "    2. LLM generates a JSON-formatted response.\n",
    "    3. Parse the response and return a structured dictionary.\n",
    "    \"\"\"\n",
    "    \n",
    "    # Step 1: Get user input\n",
    "    user_query = input(\"\\nEnter a question for JSON-formatted response (e.g., 'What is the capital of Germany?'): \")\n",
    "\n",
    "    # Step 2: Generate response\n",
    "    prompt = f\"Answer the following question in **valid JSON format only** (without markdown formatting): {{'question': '{user_query}', 'answer': 'your response here'}}\"\n",
    "    response = llm.invoke(prompt)  # FIX: Use `invoke()` instead of `predict()`\n",
    "\n",
    "    # Step 3: Extract text from AIMessage object\n",
    "    response_text = response.content if hasattr(response, \"content\") else str(response)\n",
    "\n",
    "    # Step 4: Remove JSON markdown formatting if present\n",
    "    if response_text.startswith(\"```json\"):\n",
    "        response_text = response_text.strip(\"```json\").strip(\"```\")  # Remove formatting\n",
    "\n",
    "    # Step 5: Parse JSON\n",
    "    try:\n",
    "        parsed_output = json.loads(response_text)\n",
    "    except json.JSONDecodeError:\n",
    "        raise OutputParserException(f\"Failed to parse LLM output as JSON. Raw output: {response_text}\")\n",
    "\n",
    "    return parsed_output\n",
    "\n",
    "# Run the function\n",
    "parsed_output = output_parsing_example()\n",
    "\n",
    "# Print formatted output\n",
    "print(\"\\n=== Parsed JSON Output ===\")\n",
    "print(json.dumps(parsed_output, indent=4))\n",
    "print(\"==========================\")"
   ]
  },
  {
   "cell_type": "markdown",
   "metadata": {},
   "source": [
    "# Conclusion & Next Steps\n",
    "\n",
    "You have now seen:\n",
    "\n",
    "1. **Few-Shot Prompting**  \n",
    "2. **Re-Ranking** with a cross-encoder  \n",
    "3. **Conversational Memory**  \n",
    "4. **RAG Evaluation**  \n",
    "5. **Output Parsing**\n",
    "\n",
    "\n",
    "**Thank you**\n"
   ]
  }
 ],
 "metadata": {
  "kernelspec": {
   "display_name": "Python 3 (ipykernel)",
   "language": "python",
   "name": "python3"
  },
  "language_info": {
   "codemirror_mode": {
    "name": "ipython",
    "version": 3
   },
   "file_extension": ".py",
   "mimetype": "text/x-python",
   "name": "python",
   "nbconvert_exporter": "python",
   "pygments_lexer": "ipython3",
   "version": "3.12.3"
  }
 },
 "nbformat": 4,
 "nbformat_minor": 4
}
