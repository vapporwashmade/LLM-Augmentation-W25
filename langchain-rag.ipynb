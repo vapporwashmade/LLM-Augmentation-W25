{
 "cells": [
  {
   "cell_type": "markdown",
   "metadata": {},
   "source": [
    "# Retrieval Augmented Generation with LangChain"
   ]
  },
  {
   "cell_type": "markdown",
   "metadata": {},
   "source": [
    "In this notebook, we'll build some simple naive RAG with LangChain. We will leverage OpenAI for embeddings and LLM responses, and will use the [FAISS](https://engineering.fb.com/2017/03/29/data-infrastructure/faiss-a-library-for-efficient-similarity-search/) vector database."
   ]
  },
  {
   "cell_type": "code",
   "execution_count": 1,
   "metadata": {},
   "outputs": [],
   "source": [
    "from operator import itemgetter\n",
    "import openai\n",
    "import faiss\n",
    "import os\n",
    "from langchain_community.vectorstores import FAISS\n",
    "from langchain_core.output_parsers import StrOutputParser\n",
    "from langchain.prompts import PromptTemplate\n",
    "from langchain_core.runnables import RunnablePassthrough\n",
    "from langchain_community.chat_models import ChatOpenAI\n",
    "from langchain_community.embeddings import OpenAIEmbeddings\n",
    "from dotenv import load_dotenv\n",
    "load_dotenv()\n",
    "api_key = os.getenv(\"OPENAI_API_KEY\")\n",
    "\n"
   ]
  },
  {
   "cell_type": "markdown",
   "metadata": {},
   "source": [
    "## Naive RAG"
   ]
  },
  {
   "cell_type": "markdown",
   "metadata": {},
   "source": [
    "The below cells show a very simple version of RAG, without a document. We simply pass in a sentence, and have the LLM generate a response based on that sentence."
   ]
  },
  {
   "cell_type": "code",
   "execution_count": 5,
   "metadata": {},
   "outputs": [
    {
     "name": "stderr",
     "output_type": "stream",
     "text": [
      "/tmp/ipykernel_1373/2821658354.py:2: LangChainDeprecationWarning: The class `OpenAIEmbeddings` was deprecated in LangChain 0.0.9 and will be removed in 1.0. An updated version of the class exists in the :class:`~langchain-openai package and should be used instead. To use it run `pip install -U :class:`~langchain-openai` and import as `from :class:`~langchain_openai import OpenAIEmbeddings``.\n",
      "  [\"Addy ran to CCRB\"], embedding=OpenAIEmbeddings(api_key = api_key)\n",
      "/tmp/ipykernel_1373/2821658354.py:15: LangChainDeprecationWarning: The class `ChatOpenAI` was deprecated in LangChain 0.0.10 and will be removed in 1.0. An updated version of the class exists in the :class:`~langchain-openai package and should be used instead. To use it run `pip install -U :class:`~langchain-openai` and import as `from :class:`~langchain_openai import ChatOpenAI``.\n",
      "  model = ChatOpenAI(api_key= api_key)\n"
     ]
    }
   ],
   "source": [
    "vectorstore = FAISS.from_texts(\n",
    "    [\"Addy ran to CCRB\"], embedding=OpenAIEmbeddings(api_key = api_key)\n",
    ")\n",
    "\n",
    "\n",
    "retriever = vectorstore.as_retriever()\n",
    "\n",
    "template = \"\"\"Answer the question based only on the following context:\n",
    "{context}\n",
    "\n",
    "Question: {question}\n",
    "\"\"\"\n",
    "prompt = PromptTemplate.from_template(template)\n",
    "\n",
    "model = ChatOpenAI(api_key= api_key)"
   ]
  },
  {
   "cell_type": "code",
   "execution_count": 6,
   "metadata": {},
   "outputs": [],
   "source": [
    "chain = (\n",
    "    {\"context\": retriever, \"question\": RunnablePassthrough()}\n",
    "    | prompt\n",
    "    | model\n",
    "    | StrOutputParser()\n",
    ")\n",
    "\n"
   ]
  },
  {
   "cell_type": "code",
   "execution_count": 10,
   "metadata": {},
   "outputs": [
    {
     "data": {
      "text/plain": [
       "'Addy is a person.'"
      ]
     },
     "execution_count": 10,
     "metadata": {},
     "output_type": "execute_result"
    }
   ],
   "source": [
    "chain.invoke(\"who is addy?\")"
   ]
  },
  {
   "cell_type": "code",
   "execution_count": 12,
   "metadata": {},
   "outputs": [],
   "source": [
    "template = \"\"\"Answer the question based only on the following context:\n",
    "{context}\n",
    "\n",
    "Question: {question}\n",
    "\n",
    "Answer in the following language: {language}\n",
    "\"\"\"\n",
    "prompt = PromptTemplate.from_template(template)\n",
    "\n",
    "chain = (\n",
    "    {\n",
    "        \"context\": itemgetter(\"question\") | retriever,\n",
    "        \"question\": itemgetter(\"question\"),\n",
    "        \"language\": itemgetter(\"language\"),\n",
    "    }\n",
    "    | prompt\n",
    "    | model\n",
    "    | StrOutputParser()\n",
    ")"
   ]
  },
  {
   "cell_type": "code",
   "execution_count": 30,
   "metadata": {},
   "outputs": [
    {
     "data": {
      "text/plain": [
       "'अड्डी धावत होत्या आणि दौडताना पडल्या.'"
      ]
     },
     "execution_count": 30,
     "metadata": {},
     "output_type": "execute_result"
    }
   ],
   "source": [
    "vectorstore = FAISS.from_texts(\n",
    "    [\"Addy ran to CCRB\", \"Addy is a woman\", \"Addy fell while running\"], embedding=OpenAIEmbeddings(api_key = api_key)\n",
    ")\n",
    "\n",
    "retriever = vectorstore.as_retriever()\n",
    "chain = (\n",
    "    {\n",
    "        \"context\": itemgetter(\"question\") | retriever,\n",
    "        \"question\": itemgetter(\"question\"),\n",
    "        \"language\": itemgetter(\"language\"),\n",
    "    }\n",
    "    | prompt\n",
    "    | model\n",
    "    | StrOutputParser()\n",
    ")\n",
    "chain.invoke({\"question\": \"What was addy doing and what happened during that action?\", \"language\": \"marathi\"})"
   ]
  },
  {
   "cell_type": "markdown",
   "metadata": {},
   "source": [
    "### Naive RAG with Documents"
   ]
  },
  {
   "cell_type": "markdown",
   "metadata": {},
   "source": [
    "Now, we will perform RAG over an Environmental Science text. You can find the PDF in the [Drive](https://drive.google.com/drive/folders/1EBnXiHcnpZNQ3IWwXOFQLbRJCVQG4sXb?usp=drive_link)."
   ]
  },
  {
   "cell_type": "code",
   "execution_count": 2,
   "metadata": {},
   "outputs": [],
   "source": [
    "from langchain_community.document_loaders import PyPDFLoader\n",
    "from langchain.text_splitter import RecursiveCharacterTextSplitter\n",
    "from langchain_core.output_parsers import StrOutputParser"
   ]
  },
  {
   "cell_type": "code",
   "execution_count": 3,
   "metadata": {},
   "outputs": [
    {
     "name": "stdout",
     "output_type": "stream",
     "text": [
      "form the hydrosphere, the air constitutes the atmosphere, and the biosphere\n",
      "contains the entire community of living organisms.\n",
      "Materials move cyclically among these spheres. They originate in the rocks\n",
      "(lithosphere) and are released by weathering or by volcanism. They enter\n",
      "water (hydrosphere) from where those serving as nutrients are taken up\n",
      "by plants and from there enter animals and other organisms (biosphere).\n",
      "From living organisms they may enter the air (atmosphere) or water\n",
      "(hydrosphere). Eventually they enter the oceans (hydrosphere), where\n",
      "they are taken up by marine organisms (biosphere). These return them to\n",
      "the air (atmosphere), from where they are washed to the ground by rain,\n",
      "thus returning to the land.\n",
      "The idea that biogeochemical cycles are components of an overall system raises an obvious question:\n",
      "what drives this system? It used to be thought that the global system is purely mechanical, driven by\n",
      "physical forces, and, indeed, this is the way it can seem. Volcanoes, from which atmospheric gases\n",
      "and igneous rocks erupt, are purely physical phenomena. The movement of crustal plates, weathering\n",
      "of rocks, condensation of water vapour in cooling air to form clouds leading to precipitation—all\n",
      "these can be explained in purely physical terms and they carry with them the substances needed to\n",
      "sustain life. Organisms simply grab what they need as it passes, modifying their requirements and\n",
      "strategies for satisfying them as best they can when conditions change.\n"
     ]
    }
   ],
   "source": [
    "loader = PyPDFLoader(\"environmental_sci.pdf\")\n",
    "\n",
    "# The text splitter is used to split the document into chunks\n",
    "# Mess with the parameters to see how it affects the output\n",
    "text_splitter = RecursiveCharacterTextSplitter(\n",
    "    chunk_size=2000,\n",
    "    chunk_overlap=100,\n",
    "    length_function=len,\n",
    "    is_separator_regex=False,\n",
    ")\n",
    "\n",
    "chunks = loader.load_and_split(text_splitter=text_splitter)\n",
    "\n",
    "print(chunks[25].page_content)"
   ]
  },
  {
   "cell_type": "code",
   "execution_count": 41,
   "metadata": {},
   "outputs": [
    {
     "name": "stdout",
     "output_type": "stream",
     "text": [
      "page_content='4 Biosphere 137\n",
      "32. Biosphere, biomes, biogeography 137\n",
      "33. Major biomes 141\n",
      "34. Nutrient cycles 147\n",
      "35. Respiration and photosynthesis 151\n",
      "36. Trophic relationships 151\n",
      "37. Energy, numbers, biomass 160\n",
      "38. Ecosystems 163\n",
      "39. Succession and climax 168\n",
      "40. Arrested successions 172\n",
      "41. Colonization 176\n",
      "42. Stability, instability, and reproductive strategies 179\n",
      "43. Simplicity and diversity 183\n",
      "44. Homoeostasis, feedback, regulation 188\n",
      "45. Limits of tolerance 192\n",
      "Further reading 197\n",
      "References 197\n",
      "5 Biological Resources 200\n",
      "46. Evolution 200\n",
      "47. Evolutionary strategies and game theory 206\n",
      "48. Adaptation 210\n",
      "49. Dispersal mechanisms 214\n",
      "50. Wildlife species and habitats 218\n",
      "51. Biodiversity 222\n",
      "52. Fisheries 227\n",
      "53. Forests 233\n",
      "54. Farming for food and fibre 239\n",
      "55. Human populations and demographic change 249\n",
      "56. Genetic engineering 250\n",
      "Further reading 257\n",
      "Notes 257\n",
      "References 258\n",
      "6 Environmental Management 261\n",
      "57. Wildlife conservation 261\n",
      "58. Zoos, nature reserves, wilderness 265\n",
      "59. Pest control 269\n",
      "60. Restoration ecology 274\n",
      "61. World conservation strategies 237\n",
      "62. Pollution control 281\n",
      "63 Hazardous waste 287\n",
      "64. Transnational pollution 288\n",
      "Further reading 296\n",
      "References 296\n",
      "End of book summary 298\n",
      "Glossary 300\n",
      "Bibliography 307\n",
      "Index 316\n",
      "vi / Contents' metadata={'source': 'environmental_sci.pdf', 'page': 6, 'page_label': 'vi'}\n"
     ]
    }
   ],
   "source": [
    "len(chunks)\n",
    "print(chunks[4])"
   ]
  },
  {
   "cell_type": "code",
   "execution_count": 43,
   "metadata": {},
   "outputs": [],
   "source": [
    "# We will now use the from_documents method to create a vectorstore from the chunks\n",
    "vectorstore = FAISS.from_documents(\n",
    "    chunks, embedding=OpenAIEmbeddings(api_key =api_key)\n",
    ")\n",
    "\n",
    "retriever = vectorstore.as_retriever(k=5)\n",
    "\n",
    "template = \"\"\"Answer the question based only on the following context:\n",
    "{context}\n",
    "\n",
    "Question: {question}\n",
    "\"\"\"\n",
    "prompt = PromptTemplate.from_template(template)"
   ]
  },
  {
   "cell_type": "code",
   "execution_count": 44,
   "metadata": {},
   "outputs": [],
   "source": [
    "chain = (\n",
    "    {\"context\": retriever, \"question\": RunnablePassthrough()}\n",
    "    | prompt\n",
    "    | model\n",
    "    | StrOutputParser()\n",
    ")"
   ]
  },
  {
   "cell_type": "code",
   "execution_count": 45,
   "metadata": {},
   "outputs": [
    {
     "name": "stdout",
     "output_type": "stream",
     "text": [
      "46 / Basics of Environmental Science\n",
      "atmospheric greenhouse effect is real and important, and the gases which cause it are justly known\n",
      "as ‘greenhouse gases’.\n",
      "Both the global climate and atmospheric concentrations of greenhouse gases vary from time to time.\n",
      "Studies of air trapped in bubbles inside ice cores from Greenland and from the Russian Vostok\n",
      "station in Antarctica have revealed a clear and direct relationship between these variations and air\n",
      "temperature, in the case of the Vostok cores back to about 160 000 years ago. The correlation is\n",
      "convincing, although it is possible that the fluctuating greenhouse-gas concentration is an effect of\n",
      "temperature change rather than the cause of it. As temperatures rose at the end of the last ice age, the\n",
      "increase in the atmospheric concentration of carbon dioxide lagged behind the temperature (CALDER,\n",
      "1999) and so carbon dioxide cannot have been the cause of the warming. There is also evidence that\n",
      "the carbon dioxide concentration was far from constant prior to the start of the Industrial Revolution\n",
      "(WAGNER ET AL., 1999). Carbon dioxide measurements taken from air bubbles trapped in ice\n",
      "cores are unreliable, because carbon dioxide is soluble in solid ice.\n",
      "Nor has the temperature always been linked to the concentration of carbon dioxide. The two were\n",
      "uncoupled between about 17 and 43 million years ago. The air then contained less than two-thirds of\n",
      "the present concentration of carbon dioxide (180–240 µmol mol-1 compared with 360 µmol mol -1\n",
      "today), but the climate was up to 6°C warmer than it is today (COWLING, 1999).\n",
      "Nevertheless, it is estimated that the atmospheric carbon dioxide concentration immediately prior to\n",
      "the Industrial Revolution was about 280 µmol mol-1 and that the increase since then has been due\n",
      "entirely to emissions from the burning of fossil fuels. This may not be the case. The solubility of\n",
      "gases, including carbon dioxide, is inversely proportional to the temperature. A rise in temperature,\n",
      "\n",
      "of the International Council for Scientific Unions (ICSU, now called the International Council for\n",
      "Science). There, research scientists, including ecologists and experts on climate and energy-demand\n",
      "modelling, concluded that global warming was a real threat and more research was needed and,\n",
      "supported by environmentalist groups, the topic quickly acquired political influence. This politicization\n",
      "and resultant popular dramatization of a very complex and uncertain issue has attracted criticism\n",
      "(BOEHMER-CHRISTIANSEN, 1994; BOLIN, 1995).\n",
      "Studies of climate forcing begin with estimates of ways in which the chemical composition of the\n",
      "atmosphere may change in the future, to produce an ‘emissions scenario’. This requires a knowledge\n",
      "of the sources from which greenhouse gases are released, the sinks into which they are absorbed, and\n",
      "ways the sinks may respond to increased loading. The oceans are the most important sink for carbon\n",
      "dioxide, but the behaviour of the sinks is incompletely understood and no sink has been identified for\n",
      "a significant fraction of the carbon dioxide known to have been emitted. Measurements of greenhouse-\n",
      "gas concentrations must also distinguish between genuine changes, the ‘signal’, and natural variations,\n",
      "the ‘noise’. Carbon dioxide levels vary seasonally, for example, in response to the growing season\n",
      "for plants.\n",
      "General circulation models (GCMs) are then constructed. These are based on a notional three-\n",
      "dimensional grid placed over the entire Earth. Atmospheric behaviour is calculated according to\n",
      "physical laws for every grid intersection. The input data for each calculation include the state at\n",
      "adjacent grid points as well as data introduced by the modeller, and so they trace the evolution of the\n",
      "atmosphere, simulating the climate. Using the known present state of the atmosphere, the model is\n",
      "used to simulate the climate over several decades and its results compared with actual climate records.\n",
      "\n",
      "per cent (HIDORE AND OLIVER, 1993, p. 166). This is a small deviation, but a decrease of about\n",
      "0.1 per cent sustained over a decade would be sufficient to produce major climatic effects and a 5 per\n",
      "cent decrease might trigger a major glaciation. Cyclical variations in the Earth’s rotation and orbit\n",
      "also alter the solar constant. These are believed to be the major cause of large-scale climatic change,\n",
      "and variations in solar output, marked by changes in sunspot activity, are linked to less dramatic\n",
      "changes, such as the Little Ice Age, a period when average temperatures were lower than at present\n",
      "which lasted from about 1450 to 1880. Some scientists believe that the recent climatic warming and\n",
      "rise in atmospheric carbon dioxide concentration are both wholly due to the marked increase in\n",
      "energy output of the Sun since about 1966 (CALDER, 1999).\n",
      "Figure 2.9 The development of a sea cliff, wave-cut platform, and wave-build terrace\n",
      "\n",
      "Earth Sciences / 79\n",
      "activity and climate so close he described it ‘almost that of a key in a lock’, extending to 3000 BC\n",
      "(EDDY, 1977).\n",
      "Again, the solar influence may be overwhelmed by that from greenhouse gases. David Thomson, a\n",
      "skilled statistician, has analysed data since 1659 and concluded that global temperatures are now\n",
      "linked more closely to atmospheric carbon dioxide concentrations than to sunspot activity or orbital\n",
      "effects (THOMSON, 1985), although his interpretation has been questioned by some climatologists,\n",
      "who think it too simple (KERR, 1995). The idea is now gaining ground that present changes in the\n",
      "atmosphere and climate are more likely to be due to changes in solar output and volcanic eruptions\n",
      "than to human intervention (CALDER, 1999).\n",
      "Debate will continue for some time over what is forcing present climate change, but at least in the\n",
      "past it has clearly been triggered by astronomical events, and when the climate changes it can do\n",
      "so very quickly. At one time it was thought that ice ages begin and end gradually, it taking centuries\n",
      "or longer for the ice sheets to spread. This may be incorrect. According to the ‘snowblitz’ theory,\n",
      "a slight fall in summer temperatures in high latitudes might allow some of the winter snow to\n",
      "survive where in previous years it had melted. The affected areas would then be white, when\n",
      "previously they had been dark, thus increasing albedo and lowering temperature further. In\n",
      "succeeding years, the snow-covered area would increase and temperatures would continue to fall,\n",
      "climatic forcing by the increased albedo accelerating the change by a strongly positive feedback.\n",
      "It might take very little time to move from our present interglacial climates to a full glaciation.\n",
      "Warming can also proceed rapidly, the change from glacial to interglacial perhaps taking no more\n",
      "than a few decades.\n",
      "Stability of the polar ice sheets\n",
      "If the polar ice caps were to melt, the volume of water released into the oceans\n",
      "\n",
      "therefore, will cause dissolved carbon dioxide to bubble out of the oceans. This is called the ‘warm\n",
      "champagne’ effect. Rising temperature will also stimulate aerobic bacteria. Their respiration will\n",
      "release carbon dioxide. This is called the ‘warm beer’ effect (CALDER, 1999).\n",
      "Carbon dioxide is the best-known greenhouse gas, because it is the most abundant of those over\n",
      "which we can exert some control, but it is not the only one. Methane, produced naturally, for example\n",
      "by termites, but also by farmed livestock and from wet-rice farming (present concentration about 1.7\n",
      "ppm), nitrous oxide (0.31 ppm) and tropospheric ozone (0.06 ppm), products from the burning of\n",
      "fuels in furnaces and car engines, and the industrially manufactured compounds CFC-11 (0.00026\n",
      "ppm) and CFC-12 (0.00044 ppm) are also important. The most important of all, however, is water\n",
      "vapour. This enters into the calculations only indirectly, because its concentration varies greatly\n",
      "from place to place and from day to day and because it is strongly affected by temperature. Its\n",
      "influence, therefore, tends to add to those of the other gases and generally varies as they do. Figure\n",
      "2.13 shows the anticipated changes in concentration for carbon dioxide, methane, and CFC-12,\n",
      "which is one of the family of CFC compounds. These increases are based on the (uncertain) assumption\n",
      "that industrial and vehicle emissions are the only source of carbon dioxide.\n",
      "All greenhouse-gas effects are usually expressed as ‘global warming potentials’ (GWPs) which\n",
      "relate them to carbon dioxide. GWPs take account of the wavelengths at which particular molecules\n",
      "absorb, some of which overlap, and the length of time they remain in the atmosphere before\n",
      "decomposing or being deposited at the surface. On this basis, over a 100-year period, with carbon\n",
      "dioxide given a value of 1, methane has a value of 11 (i.e. it is 11 times more effective than\n",
      "carbon dioxide, molecule for molecule), nitrous oxide 270, CFC-11 3400, and CFC-12 7100.\n"
     ]
    }
   ],
   "source": [
    "# An overly complicated one-liner to test what the top 5 most similar chunks are to the question\n",
    "# Use this to make sense of the output of the next cell\n",
    "print(\"\\n\\n\".join([x.page_content for x in vectorstore.similarity_search(\"What is the main cause of global warming?\", k=5)]))"
   ]
  },
  {
   "cell_type": "code",
   "execution_count": 46,
   "metadata": {},
   "outputs": [
    {
     "data": {
      "text/plain": [
       "'The main cause of global warming is debated, with some scientists attributing it to changes in solar output and volcanic eruptions rather than human intervention.'"
      ]
     },
     "execution_count": 46,
     "metadata": {},
     "output_type": "execute_result"
    }
   ],
   "source": [
    "chain.invoke(\"What is the main cause of global warming?\")"
   ]
  },
  {
   "cell_type": "markdown",
   "metadata": {},
   "source": [
    "Try RAG yourself! Take a file of your choice and apply the same concepts. "
   ]
  },
  {
   "cell_type": "code",
   "execution_count": 6,
   "metadata": {},
   "outputs": [
    {
     "name": "stderr",
     "output_type": "stream",
     "text": [
      "/tmp/ipykernel_538/754500342.py:14: LangChainDeprecationWarning: The class `ChatOpenAI` was deprecated in LangChain 0.0.10 and will be removed in 1.0. An updated version of the class exists in the :class:`~langchain-openai package and should be used instead. To use it run `pip install -U :class:`~langchain-openai` and import as `from :class:`~langchain_openai import ChatOpenAI``.\n",
      "  model = ChatOpenAI(api_key= api_key)\n"
     ]
    }
   ],
   "source": [
    "loader = PyPDFLoader(\"Manifesto.pdf\")\n",
    "\n",
    "# The text splitter is used to split the document into chunks\n",
    "# Mess with the parameters to see how it affects the output\n",
    "text_splitter = RecursiveCharacterTextSplitter(\n",
    "    chunk_size=2000,\n",
    "    chunk_overlap=100,\n",
    "    length_function=len,\n",
    "    is_separator_regex=False,\n",
    ")\n",
    "\n",
    "chunks = loader.load_and_split(text_splitter=text_splitter)\n",
    "\n",
    "model = ChatOpenAI(api_key= api_key)\n",
    "\n",
    "vectorstore = FAISS.from_documents(\n",
    "    chunks, embedding=OpenAIEmbeddings(api_key =api_key)\n",
    ")\n",
    "\n",
    "retriever = vectorstore.as_retriever(k=5)\n",
    "\n",
    "template = \"\"\"Answer the question based only on the following context:\n",
    "{context}\n",
    "\n",
    "Question: {question}\n",
    "\"\"\"\n",
    "prompt = PromptTemplate.from_template(template)\n",
    "\n",
    "chain = (\n",
    "    {\"context\": retriever, \"question\": RunnablePassthrough()}\n",
    "    | prompt\n",
    "    | model\n",
    "    | StrOutputParser()\n",
    ")"
   ]
  },
  {
   "cell_type": "code",
   "execution_count": 20,
   "metadata": {},
   "outputs": [
    {
     "data": {
      "text/plain": [
       "'True'"
      ]
     },
     "execution_count": 20,
     "metadata": {},
     "output_type": "execute_result"
    }
   ],
   "source": [
    "chain.invoke(\"True or false: The government should control the economy of the entire nation.\")"
   ]
  },
  {
   "cell_type": "markdown",
   "metadata": {},
   "source": [
    "Mess with the splitting method ([LangChain splitters](https://python.langchain.com/docs/modules/data_connection/document_transformers/)), the parameters to the splitter, and the number of retrieved chunks that are injected into the LLM's prompt as context. These will significantly impact how the LLM performs and answers questions."
   ]
  },
  {
   "cell_type": "markdown",
   "metadata": {},
   "source": [
    "## Advanced RAG"
   ]
  },
  {
   "cell_type": "markdown",
   "metadata": {},
   "source": [
    "We leave this as a (optional) challenge for you. How can we implement advanced RAG methods in LangChain?\n",
    "\n",
    "1. Find some data that you would like to perform RAG over. \n",
    "2. Implement some form of advanced search with LangChain. \n",
    "\n",
    "Note: The LangChain [EnsembleRetriever](https://python.langchain.com/docs/modules/data_connection/retrievers/ensemble) may be of use."
   ]
  },
  {
   "cell_type": "code",
   "execution_count": null,
   "metadata": {},
   "outputs": [],
   "source": [
    "pass"
   ]
  }
 ],
 "metadata": {
  "kernelspec": {
   "display_name": "Python 3 (ipykernel)",
   "language": "python",
   "name": "python3"
  },
  "language_info": {
   "codemirror_mode": {
    "name": "ipython",
    "version": 3
   },
   "file_extension": ".py",
   "mimetype": "text/x-python",
   "name": "python",
   "nbconvert_exporter": "python",
   "pygments_lexer": "ipython3",
   "version": "3.12.3"
  }
 },
 "nbformat": 4,
 "nbformat_minor": 4
}
